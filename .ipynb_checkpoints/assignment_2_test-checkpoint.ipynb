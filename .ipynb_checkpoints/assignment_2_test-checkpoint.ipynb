{
 "cells": [
  {
   "cell_type": "code",
   "execution_count": 1,
   "metadata": {},
   "outputs": [],
   "source": [
    "import numpy as np\n",
    "import csv\n",
    "import pandas as pd"
   ]
  },
  {
   "cell_type": "code",
   "execution_count": 2,
   "metadata": {},
   "outputs": [],
   "source": [
    " arr=np.array([[0,1,0,2,0,1],[1,0,1,1,2,0],[0,0,2,0,0,1]])"
   ]
  },
  {
   "cell_type": "code",
   "execution_count": 39,
   "metadata": {},
   "outputs": [],
   "source": [
    "def analyze_tf(arr, binary=False):\n",
    "    \n",
    "    tf_idf=None\n",
    "    \n",
    "    # add your code\n",
    "    if binary==True:\n",
    "        tf_idf=np.where(arr>=1,1,0)\n",
    "    #print(tf)\n",
    "    \n",
    "    \n",
    "    return tf_idf"
   ]
  },
  {
   "cell_type": "code",
   "execution_count": 40,
   "metadata": {},
   "outputs": [
    {
     "name": "stdout",
     "output_type": "stream",
     "text": [
      "[[0 1 0 1 0 1]\n",
      " [1 0 1 1 1 0]\n",
      " [0 0 1 0 0 1]]\n"
     ]
    }
   ],
   "source": [
    "print(analyze_tf(arr,binary=True))"
   ]
  },
  {
   "cell_type": "code",
   "execution_count": 42,
   "metadata": {},
   "outputs": [
    {
     "name": "stdout",
     "output_type": "stream",
     "text": [
      "3\n"
     ]
    }
   ],
   "source": [
    "n=arr.shape[0]\n",
    "print(n)"
   ]
  },
  {
   "cell_type": "code",
   "execution_count": 37,
   "metadata": {},
   "outputs": [
    {
     "name": "stdout",
     "output_type": "stream",
     "text": [
      "[4 5 3]\n",
      "\n",
      "\n",
      "[[0 1 0 2 0 1]\n",
      " [1 0 1 1 2 0]\n",
      " [0 0 2 0 0 1]]\n",
      "\n",
      "\n",
      "[[0.         0.25       0.         0.5        0.         0.25      ]\n",
      " [0.2        0.         0.2        0.2        0.4        0.        ]\n",
      " [0.         0.         0.66666667 0.         0.         0.33333333]]\n"
     ]
    }
   ],
   "source": [
    "temp=np.sum(arr,axis=1)\n",
    "print(temp)\n",
    "temp.shape\n",
    "print(\"\\n\")\n",
    "print(arr)\n",
    "arr.shape\n",
    "print(\"\\n\")\n",
    "result=arr/temp[:,None]\n",
    "print(result)"
   ]
  },
  {
   "cell_type": "code",
   "execution_count": 48,
   "metadata": {},
   "outputs": [
    {
     "name": "stdout",
     "output_type": "stream",
     "text": [
      "[1 1 2 2 1 2]\n",
      "[3.  3.  1.5 1.5 3.  1.5]\n"
     ]
    }
   ],
   "source": [
    "df=np.sum(np.where(arr>=1,1,0),axis=0)\n",
    "print(df)\n",
    "print(n/df)"
   ]
  },
  {
   "cell_type": "code",
   "execution_count": 49,
   "metadata": {},
   "outputs": [],
   "source": [
    "import math\n",
    "def analyze_tf(arr, binary=False):\n",
    "    \n",
    "    tf_idf=None\n",
    "    \n",
    "    # add your code\n",
    "    if binary == True:\n",
    "        arr_b=np.where(arr>=1,1,0)\n",
    "        temp=np.sum(arr_b,axis=1)\n",
    "        tf=arr_b/temp[:,None]\n",
    "        df=np.sum(np.where(arr_b>=1,1,0),axis=1)\n",
    "        N=arr_b.shape[0]\n",
    "        idf=N/df\n",
    "        tf_idf=tf*math.log(idf)\n",
    "    else:\n",
    "        temp=np.sum(arr,axis=1)\n",
    "        tf=arr/temp[:,None]\n",
    "        df=np.sum(np.where(arr>=1,1,0),axis=1)\n",
    "        N=arr.shape[0]\n",
    "        idf=N/df\n",
    "        tf_idf=tf*math.log(idf)\n",
    "    \n",
    "    return tf_idf"
   ]
  },
  {
   "cell_type": "code",
   "execution_count": 58,
   "metadata": {},
   "outputs": [
    {
     "name": "stdout",
     "output_type": "stream",
     "text": [
      "[[0 1 0 2 0 1]\n",
      " [1 0 1 1 2 0]\n",
      " [0 0 2 0 0 1]]\n"
     ]
    }
   ],
   "source": [
    "arr=np.array([[0,1,0,2,0,1],[1,0,1,1,2,0],[0,0,2,0,0,1]])\n",
    "print(arr)"
   ]
  },
  {
   "cell_type": "code",
   "execution_count": null,
   "metadata": {},
   "outputs": [],
   "source": []
  }
 ],
 "metadata": {
  "kernelspec": {
   "display_name": "Python 3",
   "language": "python",
   "name": "python3"
  },
  "language_info": {
   "codemirror_mode": {
    "name": "ipython",
    "version": 3
   },
   "file_extension": ".py",
   "mimetype": "text/x-python",
   "name": "python",
   "nbconvert_exporter": "python",
   "pygments_lexer": "ipython3",
   "version": "3.6.6"
  }
 },
 "nbformat": 4,
 "nbformat_minor": 2
}
