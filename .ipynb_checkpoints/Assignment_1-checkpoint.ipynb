{
 "cells": [
  {
   "cell_type": "markdown",
   "metadata": {},
   "source": [
    "# <center>Assignment 1</center>"
   ]
  },
  {
   "cell_type": "markdown",
   "metadata": {},
   "source": [
    "## Q1. Define a function to analyze the frequency of words in a string ##\n",
    " - Define a function named \"**count_token**\" which\n",
    "     * has a string as an input \n",
    "     * splits the string into a list of tokens by space. For example, \"it's hello world\" will be split into two tokens [\"it's\", \"hello\",\"world!\"]\n",
    "     * removes all spaces around each token (including tabs, newline characters (\"\\n\"))\n",
    "     * removes empty tokens, i.e. *len*(token)==0\n",
    "     * converts all tokens into lower case\n",
    "     * create a dictionary containing the count of every unique token, e.g. {'its': 5, 'hello':1,...}\n",
    "     * returns the dictionary as the output\n",
    "    "
   ]
  },
  {
   "cell_type": "markdown",
   "metadata": {},
   "source": [
    "## Q2. Define a class to analyze a document ##\n",
    " - Define a new class called \"**Text_Analyzer**\" which does the following :\n",
    "    - has two attributes: \n",
    "        * **input_string**, which receives the string value passed by users when creating an object of this class.\n",
    "        * **token_count**, which is set to {} when an object of this class is created.\n",
    "        \n",
    "    - a function named \"**analyze**\" that does the following:\n",
    "      * calls the function \"count_token\" to get a token-count dictionary. \n",
    "      * saves this dictionary to the token_count attribute\n",
    "      \n",
    "    - another function named \"**save_to_file**\", which\n",
    "      * has a string parameter which specifies the full name path of a file to be created\n",
    "      * saves count_token dictionary into this file with each key-value pair as a line delimited by comma (see \"foo.csv\" in Exercise 10.3 for examples).\n",
    "      "
   ]
  },
  {
   "cell_type": "markdown",
   "metadata": {},
   "source": [
    "## Q3. (Bonus) Segment documents by punctuation ##\n",
    " - Create a new function called \"**corpus_analyze**\" which does the following :\n",
    "     * takes **a list of strings** as an input\n",
    "     * for each string, do the following:\n",
    "         * splits the string into a list of tokens by **any space** or **any punctuation** (i.e. any character from the list <font color=\"blue\">!\"#$%&'()\\*+,-./:;<=>?@[\\\\]^_`{|}~</font> ), e.g. \"it's hello world!\" should be split into a list [\"it\", \"s\", \"hello\", \"world\"]\n",
    "         * removes leading and trailing spaces of each token\n",
    "         * removes any empty token or token with only 1 character\n",
    "         * converts all tokens into lower case\n",
    "     * creates a token count dictionary named **token_freq**, which gives the **total count** of each unique token in all the input strings, e.g. {'the', 100, 'of': 50, ...}\n",
    "     * creates another dictionary called **token_to_doc**, where each key is a unique token, and the corresponding value is the list of indexes of the input strings that contain the token. For example {'the': [ 2, 5 ], 'of':[3, 4], ...}, i.e. the 2rd and 6th strings contain the token \"the\", and the 4th and 5th strings have token \"of\".\n",
    "     * returns (token_freq, token_to_doc) as the output"
   ]
  },
  {
   "cell_type": "markdown",
   "metadata": {},
   "source": [
    "## Submission Guideline##\n",
    "- Following the solution template provided below. Use __main__ block to test your functions and class\n",
    "- Save your code into a python file (e.g. assign1.py) that can be run in a python 3 environment. In Jupyter Notebook, you can export notebook as .py file in menu \"File->Download as\".\n",
    "- Make sure you have all import statements. To test your code, open a command window in your current python working folder, type \"python assign1.py\" to see if it can run successfully.\n",
    "- For more details, check assignment submission guideline on Canvas"
   ]
  },
  {
   "cell_type": "code",
   "execution_count": null,
   "metadata": {
    "collapsed": true
   },
   "outputs": [],
   "source": [
    "# Structure of your solution to Assignment 1 \n",
    "\n",
    "import csv\n",
    "\n",
    "def count_token(text):\n",
    "    \n",
    "    token_count={}\n",
    "    \n",
    "    # add your code\n",
    "    \n",
    "    return token_count\n",
    "\n",
    "class Text_Analyzer(object):\n",
    "    \n",
    "    def __init__(self, text):\n",
    "        \n",
    "        # add your code\n",
    "          \n",
    "    def analyze(self):\n",
    "        \n",
    "        # add your code\n",
    "        \n",
    "    def save_to_file(self, filepath):\n",
    "        \n",
    "        # add your code\n",
    "\n",
    "def corpus_analyze(docs):\n",
    "    \n",
    "    token_freq={}\n",
    "    token_to_doc={}\n",
    "    \n",
    "    # add your code\n",
    "    \n",
    "    return token_freq, token_to_doc\n",
    "\n",
    "# best practice to test your class\n",
    "# if your script is exported as a module,\n",
    "# the following part is ignored\n",
    "# this is equivalent to main() in Java\n",
    "\n",
    "if __name__ == \"__main__\":  \n",
    "    \n",
    "    # Test Question 1\n",
    "    text='''Hello world!\n",
    "        It's is a hello world example !'''   \n",
    "    print(count_token(text))\n",
    "    \n",
    "    # # The output of your text should be: \n",
    "    # {'world': 1, '!': 1, 'world!': 1, 'a': 1, \"it's\": 1, \n",
    "    # 'example': 1, 'hello': 2, 'is': 1}\n",
    "    \n",
    "    # Test Question 2\n",
    "    analyzer=Text_Analyzer(text)\n",
    "    analyzer.analyze()\n",
    "    analyzer.save_to_file(\"/Users/rliu/temp/test.csv\")\n",
    "    # You should be able to find the csv file with 8 lines, 2 columns\n",
    "    \n",
    "    #3 Test Question 3\n",
    "    docs=['Hello world!', \"It's is a hello world example !\"]\n",
    "    word_freq, token_to_doc=corpus_analyze(docs)\n",
    "    \n",
    "    print(word_freq)\n",
    "    # output should be {'hello': 2, 'world': 2, 'it': 1, 'is': 1, 'example': 1}\n",
    "\n",
    "    print(token_to_doc)\n",
    "    # output should be {'hello': [0, 1], 'world': [0, 1], 'it': [1], 'is': [1], 'example': [1]}"
   ]
  },
  {
   "cell_type": "code",
   "execution_count": null,
   "metadata": {
    "collapsed": true
   },
   "outputs": [],
   "source": []
  }
 ],
 "metadata": {
  "kernelspec": {
   "display_name": "Python 3",
   "language": "python",
   "name": "python3"
  },
  "language_info": {
   "codemirror_mode": {
    "name": "ipython",
    "version": 3
   },
   "file_extension": ".py",
   "mimetype": "text/x-python",
   "name": "python",
   "nbconvert_exporter": "python",
   "pygments_lexer": "ipython3",
   "version": "3.6.2"
  }
 },
 "nbformat": 4,
 "nbformat_minor": 2
}
