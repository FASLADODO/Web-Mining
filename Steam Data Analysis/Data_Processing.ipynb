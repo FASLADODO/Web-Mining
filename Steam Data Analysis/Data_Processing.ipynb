{
 "cells": [
  {
   "cell_type": "code",
   "execution_count": 2,
   "metadata": {},
   "outputs": [],
   "source": [
    "import pandas as pd\n",
    "import matplotlib.pyplot as plt\n",
    "import numpy as np\n",
    "from math import *\n",
    "from scipy.optimize import curve_fit\n",
    "from scipy import asarray as ar,exp "
   ]
  },
  {
   "cell_type": "markdown",
   "metadata": {},
   "source": [
    "## Read the original data"
   ]
  },
  {
   "cell_type": "code",
   "execution_count": 3,
   "metadata": {},
   "outputs": [
    {
     "data": {
      "text/html": [
       "<div>\n",
       "<style scoped>\n",
       "    .dataframe tbody tr th:only-of-type {\n",
       "        vertical-align: middle;\n",
       "    }\n",
       "\n",
       "    .dataframe tbody tr th {\n",
       "        vertical-align: top;\n",
       "    }\n",
       "\n",
       "    .dataframe thead th {\n",
       "        text-align: right;\n",
       "    }\n",
       "</style>\n",
       "<table border=\"1\" class=\"dataframe\">\n",
       "  <thead>\n",
       "    <tr style=\"text-align: right;\">\n",
       "      <th></th>\n",
       "      <th>user_name</th>\n",
       "      <th>user_product</th>\n",
       "      <th>helpful</th>\n",
       "      <th>funny</th>\n",
       "      <th>post_date</th>\n",
       "      <th>recommend_or_not</th>\n",
       "      <th>game_time</th>\n",
       "      <th>review</th>\n",
       "    </tr>\n",
       "  </thead>\n",
       "  <tbody>\n",
       "    <tr>\n",
       "      <th>0</th>\n",
       "      <td>facciola007</td>\n",
       "      <td>304</td>\n",
       "      <td>4</td>\n",
       "      <td>0</td>\n",
       "      <td>2016/09/15</td>\n",
       "      <td>Recommended</td>\n",
       "      <td>235.2</td>\n",
       "      <td>amaze happy seem good far alpha release pre da...</td>\n",
       "    </tr>\n",
       "    <tr>\n",
       "      <th>1</th>\n",
       "      <td>Dixie Normous</td>\n",
       "      <td>257</td>\n",
       "      <td>2</td>\n",
       "      <td>0</td>\n",
       "      <td>2016/09/15</td>\n",
       "      <td>Recommended</td>\n",
       "      <td>156.3</td>\n",
       "      <td>enjoy i've play far graphically look great bar...</td>\n",
       "    </tr>\n",
       "    <tr>\n",
       "      <th>2</th>\n",
       "      <td>InquisitorTea</td>\n",
       "      <td>364</td>\n",
       "      <td>31</td>\n",
       "      <td>1</td>\n",
       "      <td>2016/09/15</td>\n",
       "      <td>Recommended</td>\n",
       "      <td>8.5</td>\n",
       "      <td>run well early access original sin good every ...</td>\n",
       "    </tr>\n",
       "    <tr>\n",
       "      <th>3</th>\n",
       "      <td>Longmire</td>\n",
       "      <td>115</td>\n",
       "      <td>2</td>\n",
       "      <td>0</td>\n",
       "      <td>2016/09/15</td>\n",
       "      <td>Recommended</td>\n",
       "      <td>16.6</td>\n",
       "      <td>play hour far seem like great road far multipl...</td>\n",
       "    </tr>\n",
       "    <tr>\n",
       "      <th>4</th>\n",
       "      <td>Fanest</td>\n",
       "      <td>0</td>\n",
       "      <td>6</td>\n",
       "      <td>2</td>\n",
       "      <td>2016/09/15</td>\n",
       "      <td>Recommended</td>\n",
       "      <td>212.8</td>\n",
       "      <td>play arena pvp tell source point op option pla...</td>\n",
       "    </tr>\n",
       "  </tbody>\n",
       "</table>\n",
       "</div>"
      ],
      "text/plain": [
       "       user_name user_product helpful funny   post_date recommend_or_not  \\\n",
       "0    facciola007          304       4     0  2016/09/15      Recommended   \n",
       "1  Dixie Normous          257       2     0  2016/09/15      Recommended   \n",
       "2  InquisitorTea          364      31     1  2016/09/15      Recommended   \n",
       "3       Longmire          115       2     0  2016/09/15      Recommended   \n",
       "4         Fanest            0       6     2  2016/09/15      Recommended   \n",
       "\n",
       "  game_time                                             review  \n",
       "0     235.2  amaze happy seem good far alpha release pre da...  \n",
       "1     156.3  enjoy i've play far graphically look great bar...  \n",
       "2       8.5  run well early access original sin good every ...  \n",
       "3      16.6  play hour far seem like great road far multipl...  \n",
       "4     212.8  play arena pvp tell source point op option pla...  "
      ]
     },
     "execution_count": 3,
     "metadata": {},
     "output_type": "execute_result"
    }
   ],
   "source": [
    "path=\"BIA-660 Project Data Subset.csv\"\n",
    "df_temp=pd.read_csv(path)\n",
    "#delete the last row since the only one data on Nov makes confusion\n",
    "df=df_temp.drop(df_temp.index[len(df_temp)-1])\n",
    "df.head()"
   ]
  },
  {
   "cell_type": "code",
   "execution_count": 4,
   "metadata": {},
   "outputs": [
    {
     "data": {
      "text/html": [
       "<div>\n",
       "<style scoped>\n",
       "    .dataframe tbody tr th:only-of-type {\n",
       "        vertical-align: middle;\n",
       "    }\n",
       "\n",
       "    .dataframe tbody tr th {\n",
       "        vertical-align: top;\n",
       "    }\n",
       "\n",
       "    .dataframe thead th {\n",
       "        text-align: right;\n",
       "    }\n",
       "</style>\n",
       "<table border=\"1\" class=\"dataframe\">\n",
       "  <thead>\n",
       "    <tr style=\"text-align: right;\">\n",
       "      <th></th>\n",
       "      <th>user_name</th>\n",
       "      <th>user_product</th>\n",
       "      <th>helpful</th>\n",
       "      <th>funny</th>\n",
       "      <th>post_date</th>\n",
       "      <th>recommend_or_not</th>\n",
       "      <th>game_time</th>\n",
       "      <th>review</th>\n",
       "    </tr>\n",
       "  </thead>\n",
       "  <tbody>\n",
       "    <tr>\n",
       "      <th>0</th>\n",
       "      <td>facciola007</td>\n",
       "      <td>304</td>\n",
       "      <td>4</td>\n",
       "      <td>0</td>\n",
       "      <td>2016-09-15</td>\n",
       "      <td>Recommended</td>\n",
       "      <td>235.2</td>\n",
       "      <td>amaze happy seem good far alpha release pre da...</td>\n",
       "    </tr>\n",
       "    <tr>\n",
       "      <th>1</th>\n",
       "      <td>Dixie Normous</td>\n",
       "      <td>257</td>\n",
       "      <td>2</td>\n",
       "      <td>0</td>\n",
       "      <td>2016-09-15</td>\n",
       "      <td>Recommended</td>\n",
       "      <td>156.3</td>\n",
       "      <td>enjoy i've play far graphically look great bar...</td>\n",
       "    </tr>\n",
       "    <tr>\n",
       "      <th>2</th>\n",
       "      <td>InquisitorTea</td>\n",
       "      <td>364</td>\n",
       "      <td>31</td>\n",
       "      <td>1</td>\n",
       "      <td>2016-09-15</td>\n",
       "      <td>Recommended</td>\n",
       "      <td>8.5</td>\n",
       "      <td>run well early access original sin good every ...</td>\n",
       "    </tr>\n",
       "    <tr>\n",
       "      <th>3</th>\n",
       "      <td>Longmire</td>\n",
       "      <td>115</td>\n",
       "      <td>2</td>\n",
       "      <td>0</td>\n",
       "      <td>2016-09-15</td>\n",
       "      <td>Recommended</td>\n",
       "      <td>16.6</td>\n",
       "      <td>play hour far seem like great road far multipl...</td>\n",
       "    </tr>\n",
       "    <tr>\n",
       "      <th>4</th>\n",
       "      <td>Fanest</td>\n",
       "      <td>0</td>\n",
       "      <td>6</td>\n",
       "      <td>2</td>\n",
       "      <td>2016-09-15</td>\n",
       "      <td>Recommended</td>\n",
       "      <td>212.8</td>\n",
       "      <td>play arena pvp tell source point op option pla...</td>\n",
       "    </tr>\n",
       "  </tbody>\n",
       "</table>\n",
       "</div>"
      ],
      "text/plain": [
       "       user_name user_product helpful funny   post_date recommend_or_not  \\\n",
       "0    facciola007          304       4     0  2016-09-15      Recommended   \n",
       "1  Dixie Normous          257       2     0  2016-09-15      Recommended   \n",
       "2  InquisitorTea          364      31     1  2016-09-15      Recommended   \n",
       "3       Longmire          115       2     0  2016-09-15      Recommended   \n",
       "4         Fanest            0       6     2  2016-09-15      Recommended   \n",
       "\n",
       "  game_time                                             review  \n",
       "0     235.2  amaze happy seem good far alpha release pre da...  \n",
       "1     156.3  enjoy i've play far graphically look great bar...  \n",
       "2       8.5  run well early access original sin good every ...  \n",
       "3      16.6  play hour far seem like great road far multipl...  \n",
       "4     212.8  play arena pvp tell source point op option pla...  "
      ]
     },
     "execution_count": 4,
     "metadata": {},
     "output_type": "execute_result"
    }
   ],
   "source": [
    "num_total=len(df)\n",
    "# date form transmission\n",
    "for i in range(num_total):\n",
    "    w=df[\"post_date\"][i].split('/')\n",
    "    q='-'.join(w)\n",
    "    df.loc[i,\"post_date\"]= q\n",
    "df.head()"
   ]
  },
  {
   "cell_type": "markdown",
   "metadata": {},
   "source": [
    "## Data analysis per day (2016-09-15 ~ 2018-8-31)"
   ]
  },
  {
   "cell_type": "markdown",
   "metadata": {},
   "source": [
    "#### using prophet"
   ]
  },
  {
   "cell_type": "code",
   "execution_count": 5,
   "metadata": {},
   "outputs": [
    {
     "name": "stdout",
     "output_type": "stream",
     "text": [
      "679\n"
     ]
    }
   ],
   "source": [
    "dic ={}\n",
    "for i in range(num_total):\n",
    "    date = df.iloc[i][\"post_date\"]\n",
    "    if date not in dic:\n",
    "        dic[date] =1\n",
    "    else:\n",
    "        dic[date]+=1\n",
    "print(len(dic))"
   ]
  },
  {
   "cell_type": "code",
   "execution_count": 6,
   "metadata": {},
   "outputs": [],
   "source": [
    "ds=[]\n",
    "y=[]\n",
    "for name in dic.keys():\n",
    "    ds.append(name)\n",
    "for num in dic.values():\n",
    "    y.append(num)"
   ]
  },
  {
   "cell_type": "code",
   "execution_count": 7,
   "metadata": {},
   "outputs": [
    {
     "data": {
      "text/plain": [
       "336"
      ]
     },
     "execution_count": 7,
     "metadata": {},
     "output_type": "execute_result"
    }
   ],
   "source": [
    "df_daily_all = pd.DataFrame() \n",
    "df_daily_all[\"ds\"] = ds\n",
    "df_daily_all[\"y\"] = y\n",
    "df_daily = df_daily_all.drop(df_daily_all.index[620:]) # known\n",
    "df_daily_actual = df_daily_all.drop(df_daily_all.index[:620]) # need prediction\n",
    "df_daily_official = df_daily_all.iloc[284:620] # after release date, before Oct 2018\n",
    "df_daily_official_all = df_daily_all.iloc[284:] # after release date\n",
    "len(df_daily_official)"
   ]
  },
  {
   "cell_type": "code",
   "execution_count": 55,
   "metadata": {},
   "outputs": [
    {
     "data": {
      "text/html": [
       "<div>\n",
       "<style scoped>\n",
       "    .dataframe tbody tr th:only-of-type {\n",
       "        vertical-align: middle;\n",
       "    }\n",
       "\n",
       "    .dataframe tbody tr th {\n",
       "        vertical-align: top;\n",
       "    }\n",
       "\n",
       "    .dataframe thead th {\n",
       "        text-align: right;\n",
       "    }\n",
       "</style>\n",
       "<table border=\"1\" class=\"dataframe\">\n",
       "  <thead>\n",
       "    <tr style=\"text-align: right;\">\n",
       "      <th></th>\n",
       "      <th>ds</th>\n",
       "      <th>y</th>\n",
       "    </tr>\n",
       "  </thead>\n",
       "  <tbody>\n",
       "    <tr>\n",
       "      <th>0</th>\n",
       "      <td>2016-09-15</td>\n",
       "      <td>40</td>\n",
       "    </tr>\n",
       "    <tr>\n",
       "      <th>1</th>\n",
       "      <td>2016-09-16</td>\n",
       "      <td>28</td>\n",
       "    </tr>\n",
       "    <tr>\n",
       "      <th>2</th>\n",
       "      <td>2016-09-17</td>\n",
       "      <td>17</td>\n",
       "    </tr>\n",
       "    <tr>\n",
       "      <th>3</th>\n",
       "      <td>2016-09-18</td>\n",
       "      <td>17</td>\n",
       "    </tr>\n",
       "    <tr>\n",
       "      <th>4</th>\n",
       "      <td>2016-09-19</td>\n",
       "      <td>16</td>\n",
       "    </tr>\n",
       "  </tbody>\n",
       "</table>\n",
       "</div>"
      ],
      "text/plain": [
       "           ds   y\n",
       "0  2016-09-15  40\n",
       "1  2016-09-16  28\n",
       "2  2016-09-17  17\n",
       "3  2016-09-18  17\n",
       "4  2016-09-19  16"
      ]
     },
     "execution_count": 55,
     "metadata": {},
     "output_type": "execute_result"
    }
   ],
   "source": [
    "df_daily.head()"
   ]
  },
  {
   "cell_type": "code",
   "execution_count": 8,
   "metadata": {},
   "outputs": [
    {
     "data": {
      "text/plain": [
       "59"
      ]
     },
     "execution_count": 8,
     "metadata": {},
     "output_type": "execute_result"
    }
   ],
   "source": [
    "len(df_daily_actual)"
   ]
  },
  {
   "cell_type": "code",
   "execution_count": 9,
   "metadata": {},
   "outputs": [
    {
     "data": {
      "text/plain": [
       "<matplotlib.axes._subplots.AxesSubplot at 0x2406de42ef0>"
      ]
     },
     "execution_count": 9,
     "metadata": {},
     "output_type": "execute_result"
    },
    {
     "data": {
      "image/png": "[encoded data removed]",
      "text/plain": [
       "<Figure size 432x288 with 1 Axes>"
      ]
     },
     "metadata": {
      "needs_background": "light"
     },
     "output_type": "display_data"
    }
   ],
   "source": [
    "df_daily.set_index('ds').y.plot()"
   ]
  },
  {
   "cell_type": "code",
   "execution_count": 10,
   "metadata": {},
   "outputs": [
    {
     "name": "stderr",
     "output_type": "stream",
     "text": [
      "INFO:fbprophet.forecaster:Disabling yearly seasonality. Run prophet with yearly_seasonality=True to override this.\n",
      "INFO:fbprophet.forecaster:Disabling daily seasonality. Run prophet with daily_seasonality=True to override this.\n",
      "K:\\Anaconda3\\lib\\site-packages\\pystan\\misc.py:399: FutureWarning: Conversion of the second argument of issubdtype from `float` to `np.floating` is deprecated. In future, it will be treated as `np.float64 == np.dtype(float).type`.\n",
      "  elif np.issubdtype(np.asarray(v).dtype, float):\n"
     ]
    },
    {
     "data": {
      "text/html": [
       "<div>\n",
       "<style scoped>\n",
       "    .dataframe tbody tr th:only-of-type {\n",
       "        vertical-align: middle;\n",
       "    }\n",
       "\n",
       "    .dataframe tbody tr th {\n",
       "        vertical-align: top;\n",
       "    }\n",
       "\n",
       "    .dataframe thead th {\n",
       "        text-align: right;\n",
       "    }\n",
       "</style>\n",
       "<table border=\"1\" class=\"dataframe\">\n",
       "  <thead>\n",
       "    <tr style=\"text-align: right;\">\n",
       "      <th></th>\n",
       "      <th>ds</th>\n",
       "    </tr>\n",
       "  </thead>\n",
       "  <tbody>\n",
       "    <tr>\n",
       "      <th>676</th>\n",
       "      <td>2018-10-27</td>\n",
       "    </tr>\n",
       "    <tr>\n",
       "      <th>677</th>\n",
       "      <td>2018-10-28</td>\n",
       "    </tr>\n",
       "    <tr>\n",
       "      <th>678</th>\n",
       "      <td>2018-10-29</td>\n",
       "    </tr>\n",
       "    <tr>\n",
       "      <th>679</th>\n",
       "      <td>2018-10-30</td>\n",
       "    </tr>\n",
       "    <tr>\n",
       "      <th>680</th>\n",
       "      <td>2018-10-31</td>\n",
       "    </tr>\n",
       "  </tbody>\n",
       "</table>\n",
       "</div>"
      ],
      "text/plain": [
       "            ds\n",
       "676 2018-10-27\n",
       "677 2018-10-28\n",
       "678 2018-10-29\n",
       "679 2018-10-30\n",
       "680 2018-10-31"
      ]
     },
     "execution_count": 10,
     "metadata": {},
     "output_type": "execute_result"
    }
   ],
   "source": [
    "from fbprophet import Prophet\n",
    "model = Prophet()\n",
    "model.fit(df_daily)\n",
    "future = model.make_future_dataframe(periods=61, freq = 'd')\n",
    "future.tail()"
   ]
  },
  {
   "cell_type": "code",
   "execution_count": 11,
   "metadata": {},
   "outputs": [
    {
     "data": {
      "text/html": [
       "<div>\n",
       "<style scoped>\n",
       "    .dataframe tbody tr th:only-of-type {\n",
       "        vertical-align: middle;\n",
       "    }\n",
       "\n",
       "    .dataframe tbody tr th {\n",
       "        vertical-align: top;\n",
       "    }\n",
       "\n",
       "    .dataframe thead th {\n",
       "        text-align: right;\n",
       "    }\n",
       "</style>\n",
       "<table border=\"1\" class=\"dataframe\">\n",
       "  <thead>\n",
       "    <tr style=\"text-align: right;\">\n",
       "      <th></th>\n",
       "      <th>ds</th>\n",
       "      <th>trend</th>\n",
       "      <th>trend_lower</th>\n",
       "      <th>trend_upper</th>\n",
       "      <th>yhat_lower</th>\n",
       "      <th>yhat_upper</th>\n",
       "      <th>additive_terms</th>\n",
       "      <th>additive_terms_lower</th>\n",
       "      <th>additive_terms_upper</th>\n",
       "      <th>multiplicative_terms</th>\n",
       "      <th>multiplicative_terms_lower</th>\n",
       "      <th>multiplicative_terms_upper</th>\n",
       "      <th>weekly</th>\n",
       "      <th>weekly_lower</th>\n",
       "      <th>weekly_upper</th>\n",
       "      <th>yhat</th>\n",
       "    </tr>\n",
       "  </thead>\n",
       "  <tbody>\n",
       "    <tr>\n",
       "      <th>676</th>\n",
       "      <td>2018-10-27</td>\n",
       "      <td>1.847070</td>\n",
       "      <td>0.231293</td>\n",
       "      <td>3.516276</td>\n",
       "      <td>-14.806653</td>\n",
       "      <td>19.670298</td>\n",
       "      <td>-0.068976</td>\n",
       "      <td>-0.068976</td>\n",
       "      <td>-0.068976</td>\n",
       "      <td>0.0</td>\n",
       "      <td>0.0</td>\n",
       "      <td>0.0</td>\n",
       "      <td>-0.068976</td>\n",
       "      <td>-0.068976</td>\n",
       "      <td>-0.068976</td>\n",
       "      <td>1.778094</td>\n",
       "    </tr>\n",
       "    <tr>\n",
       "      <th>677</th>\n",
       "      <td>2018-10-28</td>\n",
       "      <td>1.828208</td>\n",
       "      <td>0.160671</td>\n",
       "      <td>3.568966</td>\n",
       "      <td>-16.995876</td>\n",
       "      <td>21.270232</td>\n",
       "      <td>0.400158</td>\n",
       "      <td>0.400158</td>\n",
       "      <td>0.400158</td>\n",
       "      <td>0.0</td>\n",
       "      <td>0.0</td>\n",
       "      <td>0.0</td>\n",
       "      <td>0.400158</td>\n",
       "      <td>0.400158</td>\n",
       "      <td>0.400158</td>\n",
       "      <td>2.228366</td>\n",
       "    </tr>\n",
       "    <tr>\n",
       "      <th>678</th>\n",
       "      <td>2018-10-29</td>\n",
       "      <td>1.809345</td>\n",
       "      <td>0.092744</td>\n",
       "      <td>3.600122</td>\n",
       "      <td>-17.509398</td>\n",
       "      <td>18.643658</td>\n",
       "      <td>-0.594260</td>\n",
       "      <td>-0.594260</td>\n",
       "      <td>-0.594260</td>\n",
       "      <td>0.0</td>\n",
       "      <td>0.0</td>\n",
       "      <td>0.0</td>\n",
       "      <td>-0.594260</td>\n",
       "      <td>-0.594260</td>\n",
       "      <td>-0.594260</td>\n",
       "      <td>1.215085</td>\n",
       "    </tr>\n",
       "    <tr>\n",
       "      <th>679</th>\n",
       "      <td>2018-10-30</td>\n",
       "      <td>1.790483</td>\n",
       "      <td>0.010812</td>\n",
       "      <td>3.628036</td>\n",
       "      <td>-18.675535</td>\n",
       "      <td>19.204808</td>\n",
       "      <td>-1.198027</td>\n",
       "      <td>-1.198027</td>\n",
       "      <td>-1.198027</td>\n",
       "      <td>0.0</td>\n",
       "      <td>0.0</td>\n",
       "      <td>0.0</td>\n",
       "      <td>-1.198027</td>\n",
       "      <td>-1.198027</td>\n",
       "      <td>-1.198027</td>\n",
       "      <td>0.592456</td>\n",
       "    </tr>\n",
       "    <tr>\n",
       "      <th>680</th>\n",
       "      <td>2018-10-31</td>\n",
       "      <td>1.771620</td>\n",
       "      <td>-0.038653</td>\n",
       "      <td>3.670040</td>\n",
       "      <td>-17.861823</td>\n",
       "      <td>19.684133</td>\n",
       "      <td>-0.490523</td>\n",
       "      <td>-0.490523</td>\n",
       "      <td>-0.490523</td>\n",
       "      <td>0.0</td>\n",
       "      <td>0.0</td>\n",
       "      <td>0.0</td>\n",
       "      <td>-0.490523</td>\n",
       "      <td>-0.490523</td>\n",
       "      <td>-0.490523</td>\n",
       "      <td>1.281098</td>\n",
       "    </tr>\n",
       "  </tbody>\n",
       "</table>\n",
       "</div>"
      ],
      "text/plain": [
       "            ds     trend  trend_lower  trend_upper  yhat_lower  yhat_upper  \\\n",
       "676 2018-10-27  1.847070     0.231293     3.516276  -14.806653   19.670298   \n",
       "677 2018-10-28  1.828208     0.160671     3.568966  -16.995876   21.270232   \n",
       "678 2018-10-29  1.809345     0.092744     3.600122  -17.509398   18.643658   \n",
       "679 2018-10-30  1.790483     0.010812     3.628036  -18.675535   19.204808   \n",
       "680 2018-10-31  1.771620    -0.038653     3.670040  -17.861823   19.684133   \n",
       "\n",
       "     additive_terms  additive_terms_lower  additive_terms_upper  \\\n",
       "676       -0.068976             -0.068976             -0.068976   \n",
       "677        0.400158              0.400158              0.400158   \n",
       "678       -0.594260             -0.594260             -0.594260   \n",
       "679       -1.198027             -1.198027             -1.198027   \n",
       "680       -0.490523             -0.490523             -0.490523   \n",
       "\n",
       "     multiplicative_terms  multiplicative_terms_lower  \\\n",
       "676                   0.0                         0.0   \n",
       "677                   0.0                         0.0   \n",
       "678                   0.0                         0.0   \n",
       "679                   0.0                         0.0   \n",
       "680                   0.0                         0.0   \n",
       "\n",
       "     multiplicative_terms_upper    weekly  weekly_lower  weekly_upper  \\\n",
       "676                         0.0 -0.068976     -0.068976     -0.068976   \n",
       "677                         0.0  0.400158      0.400158      0.400158   \n",
       "678                         0.0 -0.594260     -0.594260     -0.594260   \n",
       "679                         0.0 -1.198027     -1.198027     -1.198027   \n",
       "680                         0.0 -0.490523     -0.490523     -0.490523   \n",
       "\n",
       "         yhat  \n",
       "676  1.778094  \n",
       "677  2.228366  \n",
       "678  1.215085  \n",
       "679  0.592456  \n",
       "680  1.281098  "
      ]
     },
     "execution_count": 11,
     "metadata": {},
     "output_type": "execute_result"
    }
   ],
   "source": [
    "forecast = model.predict(future)\n",
    "forecast.tail()"
   ]
  },
  {
   "cell_type": "code",
   "execution_count": 12,
   "metadata": {},
   "outputs": [
    {
     "data": {
      "image/png": "[encoded data removed]",
      "text/plain": [
       "<Figure size 720x432 with 1 Axes>"
      ]
     },
     "metadata": {},
     "output_type": "display_data"
    }
   ],
   "source": [
    "model.plot(forecast);"
   ]
  },
  {
   "cell_type": "code",
   "execution_count": 13,
   "metadata": {},
   "outputs": [
    {
     "name": "stderr",
     "output_type": "stream",
     "text": [
      "INFO:fbprophet.forecaster:Disabling yearly seasonality. Run prophet with yearly_seasonality=True to override this.\n",
      "INFO:fbprophet.forecaster:Disabling daily seasonality. Run prophet with daily_seasonality=True to override this.\n"
     ]
    },
    {
     "data": {
      "text/html": [
       "<div>\n",
       "<style scoped>\n",
       "    .dataframe tbody tr th:only-of-type {\n",
       "        vertical-align: middle;\n",
       "    }\n",
       "\n",
       "    .dataframe tbody tr th {\n",
       "        vertical-align: top;\n",
       "    }\n",
       "\n",
       "    .dataframe thead th {\n",
       "        text-align: right;\n",
       "    }\n",
       "</style>\n",
       "<table border=\"1\" class=\"dataframe\">\n",
       "  <thead>\n",
       "    <tr style=\"text-align: right;\">\n",
       "      <th></th>\n",
       "      <th>ds</th>\n",
       "    </tr>\n",
       "  </thead>\n",
       "  <tbody>\n",
       "    <tr>\n",
       "      <th>392</th>\n",
       "      <td>2018-10-27</td>\n",
       "    </tr>\n",
       "    <tr>\n",
       "      <th>393</th>\n",
       "      <td>2018-10-28</td>\n",
       "    </tr>\n",
       "    <tr>\n",
       "      <th>394</th>\n",
       "      <td>2018-10-29</td>\n",
       "    </tr>\n",
       "    <tr>\n",
       "      <th>395</th>\n",
       "      <td>2018-10-30</td>\n",
       "    </tr>\n",
       "    <tr>\n",
       "      <th>396</th>\n",
       "      <td>2018-10-31</td>\n",
       "    </tr>\n",
       "  </tbody>\n",
       "</table>\n",
       "</div>"
      ],
      "text/plain": [
       "            ds\n",
       "392 2018-10-27\n",
       "393 2018-10-28\n",
       "394 2018-10-29\n",
       "395 2018-10-30\n",
       "396 2018-10-31"
      ]
     },
     "execution_count": 13,
     "metadata": {},
     "output_type": "execute_result"
    }
   ],
   "source": [
    "model2 = Prophet()\n",
    "model2.fit(df_daily_official)\n",
    "future2 = model2.make_future_dataframe(periods=61, freq = 'd')\n",
    "future2.tail()"
   ]
  },
  {
   "cell_type": "code",
   "execution_count": 14,
   "metadata": {},
   "outputs": [
    {
     "data": {
      "text/html": [
       "<div>\n",
       "<style scoped>\n",
       "    .dataframe tbody tr th:only-of-type {\n",
       "        vertical-align: middle;\n",
       "    }\n",
       "\n",
       "    .dataframe tbody tr th {\n",
       "        vertical-align: top;\n",
       "    }\n",
       "\n",
       "    .dataframe thead th {\n",
       "        text-align: right;\n",
       "    }\n",
       "</style>\n",
       "<table border=\"1\" class=\"dataframe\">\n",
       "  <thead>\n",
       "    <tr style=\"text-align: right;\">\n",
       "      <th></th>\n",
       "      <th>ds</th>\n",
       "      <th>trend</th>\n",
       "      <th>trend_lower</th>\n",
       "      <th>trend_upper</th>\n",
       "      <th>yhat_lower</th>\n",
       "      <th>yhat_upper</th>\n",
       "      <th>additive_terms</th>\n",
       "      <th>additive_terms_lower</th>\n",
       "      <th>additive_terms_upper</th>\n",
       "      <th>multiplicative_terms</th>\n",
       "      <th>multiplicative_terms_lower</th>\n",
       "      <th>multiplicative_terms_upper</th>\n",
       "      <th>weekly</th>\n",
       "      <th>weekly_lower</th>\n",
       "      <th>weekly_upper</th>\n",
       "      <th>yhat</th>\n",
       "    </tr>\n",
       "  </thead>\n",
       "  <tbody>\n",
       "    <tr>\n",
       "      <th>0</th>\n",
       "      <td>2017-09-14</td>\n",
       "      <td>91.510599</td>\n",
       "      <td>91.510599</td>\n",
       "      <td>91.510599</td>\n",
       "      <td>81.106089</td>\n",
       "      <td>107.866684</td>\n",
       "      <td>2.308061</td>\n",
       "      <td>2.308061</td>\n",
       "      <td>2.308061</td>\n",
       "      <td>0.0</td>\n",
       "      <td>0.0</td>\n",
       "      <td>0.0</td>\n",
       "      <td>2.308061</td>\n",
       "      <td>2.308061</td>\n",
       "      <td>2.308061</td>\n",
       "      <td>93.818660</td>\n",
       "    </tr>\n",
       "    <tr>\n",
       "      <th>1</th>\n",
       "      <td>2017-09-15</td>\n",
       "      <td>89.517397</td>\n",
       "      <td>89.517397</td>\n",
       "      <td>89.517397</td>\n",
       "      <td>75.988997</td>\n",
       "      <td>102.689786</td>\n",
       "      <td>0.399488</td>\n",
       "      <td>0.399488</td>\n",
       "      <td>0.399488</td>\n",
       "      <td>0.0</td>\n",
       "      <td>0.0</td>\n",
       "      <td>0.0</td>\n",
       "      <td>0.399488</td>\n",
       "      <td>0.399488</td>\n",
       "      <td>0.399488</td>\n",
       "      <td>89.916886</td>\n",
       "    </tr>\n",
       "    <tr>\n",
       "      <th>2</th>\n",
       "      <td>2017-09-16</td>\n",
       "      <td>87.524196</td>\n",
       "      <td>87.524196</td>\n",
       "      <td>87.524196</td>\n",
       "      <td>75.444152</td>\n",
       "      <td>99.631395</td>\n",
       "      <td>-0.114585</td>\n",
       "      <td>-0.114585</td>\n",
       "      <td>-0.114585</td>\n",
       "      <td>0.0</td>\n",
       "      <td>0.0</td>\n",
       "      <td>0.0</td>\n",
       "      <td>-0.114585</td>\n",
       "      <td>-0.114585</td>\n",
       "      <td>-0.114585</td>\n",
       "      <td>87.409611</td>\n",
       "    </tr>\n",
       "    <tr>\n",
       "      <th>3</th>\n",
       "      <td>2017-09-17</td>\n",
       "      <td>85.530994</td>\n",
       "      <td>85.530994</td>\n",
       "      <td>85.530994</td>\n",
       "      <td>74.123834</td>\n",
       "      <td>98.353564</td>\n",
       "      <td>0.544328</td>\n",
       "      <td>0.544328</td>\n",
       "      <td>0.544328</td>\n",
       "      <td>0.0</td>\n",
       "      <td>0.0</td>\n",
       "      <td>0.0</td>\n",
       "      <td>0.544328</td>\n",
       "      <td>0.544328</td>\n",
       "      <td>0.544328</td>\n",
       "      <td>86.075322</td>\n",
       "    </tr>\n",
       "    <tr>\n",
       "      <th>4</th>\n",
       "      <td>2017-09-18</td>\n",
       "      <td>83.537792</td>\n",
       "      <td>83.537792</td>\n",
       "      <td>83.537792</td>\n",
       "      <td>68.904490</td>\n",
       "      <td>96.118781</td>\n",
       "      <td>-1.024801</td>\n",
       "      <td>-1.024801</td>\n",
       "      <td>-1.024801</td>\n",
       "      <td>0.0</td>\n",
       "      <td>0.0</td>\n",
       "      <td>0.0</td>\n",
       "      <td>-1.024801</td>\n",
       "      <td>-1.024801</td>\n",
       "      <td>-1.024801</td>\n",
       "      <td>82.512991</td>\n",
       "    </tr>\n",
       "  </tbody>\n",
       "</table>\n",
       "</div>"
      ],
      "text/plain": [
       "          ds      trend  trend_lower  trend_upper  yhat_lower  yhat_upper  \\\n",
       "0 2017-09-14  91.510599    91.510599    91.510599   81.106089  107.866684   \n",
       "1 2017-09-15  89.517397    89.517397    89.517397   75.988997  102.689786   \n",
       "2 2017-09-16  87.524196    87.524196    87.524196   75.444152   99.631395   \n",
       "3 2017-09-17  85.530994    85.530994    85.530994   74.123834   98.353564   \n",
       "4 2017-09-18  83.537792    83.537792    83.537792   68.904490   96.118781   \n",
       "\n",
       "   additive_terms  additive_terms_lower  additive_terms_upper  \\\n",
       "0        2.308061              2.308061              2.308061   \n",
       "1        0.399488              0.399488              0.399488   \n",
       "2       -0.114585             -0.114585             -0.114585   \n",
       "3        0.544328              0.544328              0.544328   \n",
       "4       -1.024801             -1.024801             -1.024801   \n",
       "\n",
       "   multiplicative_terms  multiplicative_terms_lower  \\\n",
       "0                   0.0                         0.0   \n",
       "1                   0.0                         0.0   \n",
       "2                   0.0                         0.0   \n",
       "3                   0.0                         0.0   \n",
       "4                   0.0                         0.0   \n",
       "\n",
       "   multiplicative_terms_upper    weekly  weekly_lower  weekly_upper       yhat  \n",
       "0                         0.0  2.308061      2.308061      2.308061  93.818660  \n",
       "1                         0.0  0.399488      0.399488      0.399488  89.916886  \n",
       "2                         0.0 -0.114585     -0.114585     -0.114585  87.409611  \n",
       "3                         0.0  0.544328      0.544328      0.544328  86.075322  \n",
       "4                         0.0 -1.024801     -1.024801     -1.024801  82.512991  "
      ]
     },
     "execution_count": 14,
     "metadata": {},
     "output_type": "execute_result"
    }
   ],
   "source": [
    "forecast2 = model2.predict(future2)\n",
    "forecast2.head()"
   ]
  },
  {
   "cell_type": "code",
   "execution_count": 15,
   "metadata": {},
   "outputs": [
    {
     "data": {
      "text/plain": [
       "397"
      ]
     },
     "execution_count": 15,
     "metadata": {},
     "output_type": "execute_result"
    }
   ],
   "source": [
    "len(forecast2)"
   ]
  },
  {
   "cell_type": "code",
   "execution_count": 16,
   "metadata": {},
   "outputs": [
    {
     "data": {
      "image/png": "[encoded data removed]",
      "text/plain": [
       "<Figure size 720x432 with 1 Axes>"
      ]
     },
     "metadata": {},
     "output_type": "display_data"
    }
   ],
   "source": [
    "model2.plot(forecast2);"
   ]
  },
  {
   "cell_type": "code",
   "execution_count": 17,
   "metadata": {},
   "outputs": [],
   "source": [
    "df_daily_official_all.set_index('ds', inplace=True)\n",
    "forecast2.set_index('ds', inplace=True)\n",
    "viz_df2 = df_daily_official_all.join(forecast2[['yhat', 'yhat_lower','yhat_upper']], how = 'outer').fillna(0)"
   ]
  },
  {
   "cell_type": "code",
   "execution_count": 18,
   "metadata": {},
   "outputs": [
    {
     "data": {
      "text/html": [
       "<div>\n",
       "<style scoped>\n",
       "    .dataframe tbody tr th:only-of-type {\n",
       "        vertical-align: middle;\n",
       "    }\n",
       "\n",
       "    .dataframe tbody tr th {\n",
       "        vertical-align: top;\n",
       "    }\n",
       "\n",
       "    .dataframe thead th {\n",
       "        text-align: right;\n",
       "    }\n",
       "</style>\n",
       "<table border=\"1\" class=\"dataframe\">\n",
       "  <thead>\n",
       "    <tr style=\"text-align: right;\">\n",
       "      <th></th>\n",
       "      <th>y</th>\n",
       "      <th>yhat</th>\n",
       "      <th>yhat_lower</th>\n",
       "      <th>yhat_upper</th>\n",
       "    </tr>\n",
       "    <tr>\n",
       "      <th>ds</th>\n",
       "      <th></th>\n",
       "      <th></th>\n",
       "      <th></th>\n",
       "      <th></th>\n",
       "    </tr>\n",
       "  </thead>\n",
       "  <tbody>\n",
       "    <tr>\n",
       "      <th>2017-09-14</th>\n",
       "      <td>193.0</td>\n",
       "      <td>93.818660</td>\n",
       "      <td>81.106089</td>\n",
       "      <td>107.866684</td>\n",
       "    </tr>\n",
       "    <tr>\n",
       "      <th>2017-09-15</th>\n",
       "      <td>138.0</td>\n",
       "      <td>89.916886</td>\n",
       "      <td>75.988997</td>\n",
       "      <td>102.689786</td>\n",
       "    </tr>\n",
       "    <tr>\n",
       "      <th>2017-09-16</th>\n",
       "      <td>124.0</td>\n",
       "      <td>87.409611</td>\n",
       "      <td>75.444152</td>\n",
       "      <td>99.631395</td>\n",
       "    </tr>\n",
       "    <tr>\n",
       "      <th>2017-09-17</th>\n",
       "      <td>100.0</td>\n",
       "      <td>86.075322</td>\n",
       "      <td>74.123834</td>\n",
       "      <td>98.353564</td>\n",
       "    </tr>\n",
       "    <tr>\n",
       "      <th>2017-09-18</th>\n",
       "      <td>95.0</td>\n",
       "      <td>82.512991</td>\n",
       "      <td>68.904490</td>\n",
       "      <td>96.118781</td>\n",
       "    </tr>\n",
       "  </tbody>\n",
       "</table>\n",
       "</div>"
      ],
      "text/plain": [
       "                y       yhat  yhat_lower  yhat_upper\n",
       "ds                                                  \n",
       "2017-09-14  193.0  93.818660   81.106089  107.866684\n",
       "2017-09-15  138.0  89.916886   75.988997  102.689786\n",
       "2017-09-16  124.0  87.409611   75.444152   99.631395\n",
       "2017-09-17  100.0  86.075322   74.123834   98.353564\n",
       "2017-09-18   95.0  82.512991   68.904490   96.118781"
      ]
     },
     "execution_count": 18,
     "metadata": {},
     "output_type": "execute_result"
    }
   ],
   "source": [
    "viz_df2.head()"
   ]
  },
  {
   "cell_type": "code",
   "execution_count": 19,
   "metadata": {},
   "outputs": [],
   "source": [
    "def dist(dataframe):\n",
    "    dist=[]\n",
    "    length=len(dataframe)\n",
    "    for i in range(length):\n",
    "        temp=abs((abs(dataframe['yhat'][i])-abs(dataframe['y'][i])))\n",
    "        dist.append(temp)\n",
    "    return dist"
   ]
  },
  {
   "cell_type": "code",
   "execution_count": 20,
   "metadata": {},
   "outputs": [
    {
     "name": "stdout",
     "output_type": "stream",
     "text": [
      "similarity score is : \n",
      "\n",
      "4.87978148756082\n"
     ]
    }
   ],
   "source": [
    "distance = dist(viz_df2)\n",
    "score = sum(distance)/len(viz_df2)\n",
    "print(\"similarity score is : \\n\")\n",
    "print(score)"
   ]
  },
  {
   "cell_type": "code",
   "execution_count": 21,
   "metadata": {},
   "outputs": [
    {
     "data": {
      "text/plain": [
       "<matplotlib.axes._subplots.AxesSubplot at 0x2407348c208>"
      ]
     },
     "execution_count": 21,
     "metadata": {},
     "output_type": "execute_result"
    },
    {
     "data": {
      "image/png": "[encoded data removed]",
      "text/plain": [
       "<Figure size 432x288 with 1 Axes>"
      ]
     },
     "metadata": {
      "needs_background": "light"
     },
     "output_type": "display_data"
    }
   ],
   "source": [
    "viz_df2[['y', 'yhat']].plot()"
   ]
  },
  {
   "cell_type": "markdown",
   "metadata": {},
   "source": [
    "#### using polynomial curve fitting"
   ]
  },
  {
   "cell_type": "code",
   "execution_count": 22,
   "metadata": {},
   "outputs": [
    {
     "ename": "ValueError",
     "evalue": "Unable to determine number of fit parameters.",
     "output_type": "error",
     "traceback": [
      "\u001b[1;31m---------------------------------------------------------------------------\u001b[0m",
      "\u001b[1;31mValueError\u001b[0m                                Traceback (most recent call last)",
      "\u001b[1;32m<ipython-input-22-c9dff15c4b54>\u001b[0m in \u001b[0;36m<module>\u001b[1;34m\u001b[0m\n\u001b[0;32m      6\u001b[0m \u001b[1;32mdef\u001b[0m \u001b[0mgaussian\u001b[0m\u001b[1;33m(\u001b[0m\u001b[0mx\u001b[0m\u001b[1;33m,\u001b[0m\u001b[1;33m*\u001b[0m\u001b[0mparam\u001b[0m\u001b[1;33m)\u001b[0m\u001b[1;33m:\u001b[0m\u001b[1;33m\u001b[0m\u001b[0m\n\u001b[0;32m      7\u001b[0m     \u001b[1;32mreturn\u001b[0m \u001b[0mparam\u001b[0m\u001b[1;33m[\u001b[0m\u001b[1;36m0\u001b[0m\u001b[1;33m]\u001b[0m\u001b[1;33m*\u001b[0m\u001b[0mnp\u001b[0m\u001b[1;33m.\u001b[0m\u001b[0mexp\u001b[0m\u001b[1;33m(\u001b[0m\u001b[1;33m-\u001b[0m\u001b[0mnp\u001b[0m\u001b[1;33m.\u001b[0m\u001b[0mpower\u001b[0m\u001b[1;33m(\u001b[0m\u001b[0mx\u001b[0m \u001b[1;33m-\u001b[0m \u001b[0mparam\u001b[0m\u001b[1;33m[\u001b[0m\u001b[1;36m2\u001b[0m\u001b[1;33m]\u001b[0m\u001b[1;33m,\u001b[0m \u001b[1;36m2.\u001b[0m\u001b[1;33m)\u001b[0m \u001b[1;33m/\u001b[0m \u001b[1;33m(\u001b[0m\u001b[1;36m2\u001b[0m \u001b[1;33m*\u001b[0m \u001b[0mnp\u001b[0m\u001b[1;33m.\u001b[0m\u001b[0mpower\u001b[0m\u001b[1;33m(\u001b[0m\u001b[0mparam\u001b[0m\u001b[1;33m[\u001b[0m\u001b[1;36m4\u001b[0m\u001b[1;33m]\u001b[0m\u001b[1;33m,\u001b[0m \u001b[1;36m2.\u001b[0m\u001b[1;33m)\u001b[0m\u001b[1;33m)\u001b[0m\u001b[1;33m)\u001b[0m\u001b[1;33m+\u001b[0m\u001b[0mparam\u001b[0m\u001b[1;33m[\u001b[0m\u001b[1;36m1\u001b[0m\u001b[1;33m]\u001b[0m\u001b[1;33m*\u001b[0m\u001b[0mnp\u001b[0m\u001b[1;33m.\u001b[0m\u001b[0mexp\u001b[0m\u001b[1;33m(\u001b[0m\u001b[1;33m-\u001b[0m\u001b[0mnp\u001b[0m\u001b[1;33m.\u001b[0m\u001b[0mpower\u001b[0m\u001b[1;33m(\u001b[0m\u001b[0mx\u001b[0m \u001b[1;33m-\u001b[0m \u001b[0mparam\u001b[0m\u001b[1;33m[\u001b[0m\u001b[1;36m3\u001b[0m\u001b[1;33m]\u001b[0m\u001b[1;33m,\u001b[0m \u001b[1;36m2.\u001b[0m\u001b[1;33m)\u001b[0m \u001b[1;33m/\u001b[0m \u001b[1;33m(\u001b[0m\u001b[1;36m2\u001b[0m \u001b[1;33m*\u001b[0m \u001b[0mnp\u001b[0m\u001b[1;33m.\u001b[0m\u001b[0mpower\u001b[0m\u001b[1;33m(\u001b[0m\u001b[0mparam\u001b[0m\u001b[1;33m[\u001b[0m\u001b[1;36m5\u001b[0m\u001b[1;33m]\u001b[0m\u001b[1;33m,\u001b[0m \u001b[1;36m2.\u001b[0m\u001b[1;33m)\u001b[0m\u001b[1;33m)\u001b[0m\u001b[1;33m)\u001b[0m\u001b[1;33m\u001b[0m\u001b[0m\n\u001b[1;32m----> 8\u001b[1;33m \u001b[0mpopt\u001b[0m\u001b[1;33m,\u001b[0m\u001b[0mpcov\u001b[0m \u001b[1;33m=\u001b[0m \u001b[0mcurve_fit\u001b[0m\u001b[1;33m(\u001b[0m\u001b[0mgaussian\u001b[0m\u001b[1;33m,\u001b[0m\u001b[0mx\u001b[0m\u001b[1;33m,\u001b[0m\u001b[0my\u001b[0m\u001b[1;33m)\u001b[0m\u001b[1;33m\u001b[0m\u001b[0m\n\u001b[0m\u001b[0;32m      9\u001b[0m \u001b[0mprint\u001b[0m \u001b[1;33m(\u001b[0m\u001b[0mpopt\u001b[0m\u001b[1;33m)\u001b[0m\u001b[1;33m\u001b[0m\u001b[0m\n\u001b[0;32m     10\u001b[0m \u001b[0mprint\u001b[0m \u001b[1;33m(\u001b[0m\u001b[0mpcov\u001b[0m\u001b[1;33m)\u001b[0m\u001b[1;33m\u001b[0m\u001b[0m\n",
      "\u001b[1;32mK:\\Anaconda3\\lib\\site-packages\\scipy\\optimize\\minpack.py\u001b[0m in \u001b[0;36mcurve_fit\u001b[1;34m(f, xdata, ydata, p0, sigma, absolute_sigma, check_finite, bounds, method, jac, **kwargs)\u001b[0m\n\u001b[0;32m    676\u001b[0m         \u001b[0margs\u001b[0m\u001b[1;33m,\u001b[0m \u001b[0mvarargs\u001b[0m\u001b[1;33m,\u001b[0m \u001b[0mvarkw\u001b[0m\u001b[1;33m,\u001b[0m \u001b[0mdefaults\u001b[0m \u001b[1;33m=\u001b[0m \u001b[0m_getargspec\u001b[0m\u001b[1;33m(\u001b[0m\u001b[0mf\u001b[0m\u001b[1;33m)\u001b[0m\u001b[1;33m\u001b[0m\u001b[0m\n\u001b[0;32m    677\u001b[0m         \u001b[1;32mif\u001b[0m \u001b[0mlen\u001b[0m\u001b[1;33m(\u001b[0m\u001b[0margs\u001b[0m\u001b[1;33m)\u001b[0m \u001b[1;33m<\u001b[0m \u001b[1;36m2\u001b[0m\u001b[1;33m:\u001b[0m\u001b[1;33m\u001b[0m\u001b[0m\n\u001b[1;32m--> 678\u001b[1;33m             \u001b[1;32mraise\u001b[0m \u001b[0mValueError\u001b[0m\u001b[1;33m(\u001b[0m\u001b[1;34m\"Unable to determine number of fit parameters.\"\u001b[0m\u001b[1;33m)\u001b[0m\u001b[1;33m\u001b[0m\u001b[0m\n\u001b[0m\u001b[0;32m    679\u001b[0m         \u001b[0mn\u001b[0m \u001b[1;33m=\u001b[0m \u001b[0mlen\u001b[0m\u001b[1;33m(\u001b[0m\u001b[0margs\u001b[0m\u001b[1;33m)\u001b[0m \u001b[1;33m-\u001b[0m \u001b[1;36m1\u001b[0m\u001b[1;33m\u001b[0m\u001b[0m\n\u001b[0;32m    680\u001b[0m     \u001b[1;32melse\u001b[0m\u001b[1;33m:\u001b[0m\u001b[1;33m\u001b[0m\u001b[0m\n",
      "\u001b[1;31mValueError\u001b[0m: Unable to determine number of fit parameters."
     ]
    }
   ],
   "source": [
    "y_temp=[]\n",
    "x = np.arange(0,len(df_daily),1)\n",
    "for i in range(len(df_daily)):\n",
    "    y_temp.append(df_daily[\"y\"][i])\n",
    "y = np.array(y_temp)\n",
    "def gaussian(x,*param):  \n",
    "    return param[0]*np.exp(-np.power(x - param[2], 2.) / (2 * np.power(param[4], 2.)))+param[1]*np.exp(-np.power(x - param[3], 2.) / (2 * np.power(param[5], 2.)))  \n",
    "popt,pcov = curve_fit(gaussian,x,y)  \n",
    "print (popt)  \n",
    "print (pcov)  \n",
    "   \n",
    "plt.plot(x,y,'b+:',label='data')  \n",
    "plt.plot(x,gaussian(x,*popt),'ro:',label='fit')  \n",
    "plt.legend()  \n",
    "plt.show()"
   ]
  },
  {
   "cell_type": "code",
   "execution_count": 47,
   "metadata": {
    "scrolled": false
   },
   "outputs": [
    {
     "name": "stdout",
     "output_type": "stream",
     "text": [
      "           4             3           2\n",
      "1.013e-07 x - 7.838e-05 x + 0.02111 x - 2.313 x + 91.53\n"
     ]
    },
    {
     "data": {
      "image/png": "[encoded data removed]",
      "text/plain": [
       "<Figure size 432x288 with 1 Axes>"
      ]
     },
     "metadata": {
      "needs_background": "light"
     },
     "output_type": "display_data"
    }
   ],
   "source": [
    "y_temp=[]\n",
    "x = np.arange(0,len(df_daily_official),1)\n",
    "for i in range(len(df_daily_official)):\n",
    "    y_temp.append(df_daily_official[\"y\"][i+284])\n",
    "y = np.array(y_temp)\n",
    "z1 = np.polyfit(x, y, 4)#用2次多项式拟合\n",
    "p1 = np.poly1d(z1)\n",
    "print(p1) #在屏幕上打印拟合多项式\n",
    "yvals = p1(x)  #拟合y值\n",
    "\n",
    "plot1 = plt.plot(x, y, 's',label='original values')\n",
    "plot2 = plt.plot(x, yvals, 'r',label='polyfit values')\n",
    "plt.xlabel('x')\n",
    "plt.ylabel('y')\n",
    "plt.legend(loc=1) \n",
    "plt.title('fourth dgree polyfitting')\n",
    "plt.show()"
   ]
  },
  {
   "cell_type": "code",
   "execution_count": 43,
   "metadata": {},
   "outputs": [
    {
     "name": "stdout",
     "output_type": "stream",
     "text": [
      "similarity score is : \n",
      "\n",
      "633.6919570820027\n"
     ]
    }
   ],
   "source": [
    "dist_poly = []\n",
    "x_poly = np.arange(0,len(df_daily_official_all),1)\n",
    "y_poly = [(1.013e-07 *x*x*x*x - 7.838e-05 *x*x*x + 0.02111 *x -2.313*x +91.53) for x in x_poly] \n",
    "for i in range(len(df_daily_official_all)):\n",
    "    temp=abs(y_poly[i]-df_daily_all[\"y\"][i])\n",
    "    dist_poly.append(temp)\n",
    "score_poly = sum(dist_poly)/len(df_daily_all)\n",
    "print(\"similarity score is : \\n\")\n",
    "print(score_poly)"
   ]
  },
  {
   "cell_type": "markdown",
   "metadata": {},
   "source": [
    "#### third dgree polynomial"
   ]
  },
  {
   "cell_type": "code",
   "execution_count": 48,
   "metadata": {},
   "outputs": [
    {
     "name": "stdout",
     "output_type": "stream",
     "text": [
      "            3            2\n",
      "-1.054e-05 x + 0.006519 x - 1.23 x + 73.64\n"
     ]
    },
    {
     "data": {
      "image/png": "[encoded data removed]",
      "text/plain": [
       "<Figure size 432x288 with 1 Axes>"
      ]
     },
     "metadata": {
      "needs_background": "light"
     },
     "output_type": "display_data"
    }
   ],
   "source": [
    "y_temp=[]\n",
    "x = np.arange(0,len(df_daily_official),1)\n",
    "for i in range(len(df_daily_official)):\n",
    "    y_temp.append(df_daily_official[\"y\"][i+284])\n",
    "y = np.array(y_temp)\n",
    "z1 = np.polyfit(x, y, 3)#用2次多项式拟合\n",
    "p1 = np.poly1d(z1)\n",
    "print(p1) #在屏幕上打印拟合多项式\n",
    "yvals = p1(x)  #拟合y值\n",
    "\n",
    "plot1 = plt.plot(x, y, 's',label='original values')\n",
    "plot2 = plt.plot(x, yvals, 'r',label='polyfit values')\n",
    "plt.xlabel('x')\n",
    "plt.ylabel('y')\n",
    "plt.legend(loc=1) \n",
    "plt.title('third dgree polyfitting')\n",
    "plt.show()"
   ]
  },
  {
   "cell_type": "code",
   "execution_count": 45,
   "metadata": {},
   "outputs": [
    {
     "name": "stdout",
     "output_type": "stream",
     "text": [
      "similarity score is : \n",
      "\n",
      "163.62900364951395\n"
     ]
    }
   ],
   "source": [
    "dist_poly = []\n",
    "x_poly = np.arange(0,len(df_daily_official_all),1)\n",
    "y_poly = [(-1.054e-05 *x*x*x - 0.006519 *x*x + 1.23 *x +73.64) for x in x_poly] \n",
    "for i in range(len(df_daily_official_all)):\n",
    "    temp=abs(y_poly[i]-df_daily_all[\"y\"][i])\n",
    "    dist_poly.append(temp)\n",
    "score_poly = sum(dist_poly)/len(df_daily_all)\n",
    "print(\"similarity score is : \\n\")\n",
    "print(score_poly)"
   ]
  },
  {
   "cell_type": "markdown",
   "metadata": {},
   "source": [
    "#### exponential curve fitting"
   ]
  },
  {
   "cell_type": "code",
   "execution_count": 106,
   "metadata": {},
   "outputs": [
    {
     "name": "stdout",
     "output_type": "stream",
     "text": [
      "parameter a: 12.30452657404054\n",
      "parameter b: 2.869100023130686\n"
     ]
    },
    {
     "data": {
      "text/plain": [
       "Text(0.5,1,'curve_fit')"
      ]
     },
     "execution_count": 106,
     "metadata": {},
     "output_type": "execute_result"
    },
    {
     "data": {
      "image/png": "[encoded data removed]",
      "text/plain": [
       "<Figure size 432x288 with 1 Axes>"
      ]
     },
     "metadata": {
      "needs_background": "light"
     },
     "output_type": "display_data"
    }
   ],
   "source": [
    "x = np.arange(1,len(df_daily_official)+1,1)\n",
    "y = np.array(y_temp)\n",
    "def func(x,a,b):\n",
    "    return a*np.exp(b/x)\n",
    "popt, pcov = curve_fit(func, x, y)\n",
    "a=popt[0]\n",
    "b=popt[1]\n",
    "yvals=func(x,a,b)\n",
    "print (u'parameter a:', a)\n",
    "print (u'parameter b:', b)\n",
    "plot1=plt.plot(x, y, '*',label='original values')\n",
    "plot2=plt.plot(x, yvals, 'r',label='curve_fit values')\n",
    "plt.xlabel('x axis')\n",
    "plt.ylabel('y axis')\n",
    "plt.legend(loc=1)\n",
    "plt.title('curve_fit')"
   ]
  },
  {
   "cell_type": "code",
   "execution_count": 46,
   "metadata": {},
   "outputs": [
    {
     "name": "stdout",
     "output_type": "stream",
     "text": [
      "similarity score is : \n",
      "\n",
      "7.792709825757792\n"
     ]
    }
   ],
   "source": [
    "dist_exp = []\n",
    "x_exp = np.arange(1,len(df_daily_official_all)+1,1)\n",
    "y_exp = [12.30452657404054*np.exp(2.869100023130686/x) for x in x_exp] \n",
    "for i in range(len(df_daily_official_all)):\n",
    "    temp=abs(y_exp[i]-df_daily_all[\"y\"][i])\n",
    "    dist_exp.append(temp)\n",
    "score_exp = sum(dist_exp)/len(df_daily_all)\n",
    "print(\"similarity score is : \\n\")\n",
    "print(score_exp)"
   ]
  },
  {
   "cell_type": "markdown",
   "metadata": {},
   "source": [
    "## Data Analysis per month (2016-9 ~2018-8)"
   ]
  },
  {
   "cell_type": "code",
   "execution_count": 49,
   "metadata": {},
   "outputs": [],
   "source": [
    "ym=['2016-09','2016-10','2016-11','2016-12','2017-01','2017-02','2017-03','2017-04','2017-05','2017-06','2017-07','2017-08','2017-09',\\\n",
    "   '2017-10','2017-11','2017-12','2018-01','2018-02','2018-03','2018-04','2018-05','2018-06','2018-07','2018-08',\\\n",
    "   '2018-09','2018-10']"
   ]
  },
  {
   "cell_type": "code",
   "execution_count": 50,
   "metadata": {},
   "outputs": [],
   "source": [
    "df['ym']=0\n",
    "for i in range(num_total):\n",
    "    df.loc[i,\"ym\"]= df[\"post_date\"][i][0:7]"
   ]
  },
  {
   "cell_type": "code",
   "execution_count": 51,
   "metadata": {},
   "outputs": [],
   "source": [
    "df_time=[]\n",
    "df_time_pos=[]\n",
    "df_time_neg=[]\n",
    "num_reviews=[]\n",
    "num_reviews_pos=[]\n",
    "num_reviews_neg=[]\n",
    "for a in ym:\n",
    "    # store the dataframe every month into a list. df_time[0] means the dataframe on 15/09/2016\n",
    "    df_time.append(df[df[\"ym\"]==a])\n",
    "    df_time_pos.append(df[(df[\"ym\"]==a) & (df[\"recommend_or_not\"]==\"Recommended\")])\n",
    "    df_time_neg.append(df[(df[\"ym\"]==a) & (df[\"recommend_or_not\"]==\"Not Recommended\")])\n",
    "time_interval=len(df_time)\n",
    "for i in range(time_interval):\n",
    "    num_reviews.append(len(df_time[i]))\n",
    "    num_reviews_pos.append(len(df_time_pos[i]))\n",
    "    num_reviews_neg.append(len(df_time_neg[i]))"
   ]
  },
  {
   "cell_type": "code",
   "execution_count": 52,
   "metadata": {},
   "outputs": [],
   "source": [
    "# positive / total\n",
    "num_pro=[]\n",
    "for i in range(len(num_reviews)):\n",
    "    if num_reviews[i]==0:\n",
    "        num_pro.append(0)\n",
    "    else:\n",
    "        num_pro.append(num_reviews_pos[i]/num_reviews[i]*100)"
   ]
  },
  {
   "cell_type": "code",
   "execution_count": 53,
   "metadata": {},
   "outputs": [
    {
     "data": {
      "text/plain": [
       "<matplotlib.legend.Legend at 0x24073205f60>"
      ]
     },
     "execution_count": 53,
     "metadata": {},
     "output_type": "execute_result"
    },
    {
     "data": {
      "image/png": "[encoded data removed]",
      "text/plain": [
       "<Figure size 432x288 with 2 Axes>"
      ]
     },
     "metadata": {
      "needs_background": "light"
     },
     "output_type": "display_data"
    }
   ],
   "source": [
    "plt.subplot(211) \n",
    "width=1.5\n",
    "s1=plt.bar(ym, num_reviews, label='Negative')\n",
    "#a=plt.bar(ym, num_reviews_pos)\n",
    "s2=plt.bar(ym, num_reviews_pos, label='Positive')\n",
    "plt.title(\"Review Analysis per Month\")\n",
    "plt.ylabel('number of reviews')\n",
    "plt.xlabel('data')\n",
    "plt.legend()\n",
    "#a.legend('positive')\n",
    "#expand\n",
    "#plt.figure(figsize = (100,20))\n",
    "#plt.xticks([0,np.pi/2,np.pi,3*np.pi/2,2*np.pi],ym, rotation=90) #rotate\n",
    "\n",
    "#plt.savefig(\"examples.jpg\")\n",
    "\n",
    "plt.subplot(212) \n",
    "s3=plt.bar(ym, num_pro, label='positive feedback')\n",
    "plt.title(\"postive rating\")\n",
    "plt.ylabel('posivie/total %')\n",
    "plt.xlabel('data')\n",
    "plt.legend()\n",
    "#for a,b in zip(x,y):\n",
    "#    plt.text(a, b+0.05, '%.0f' % b, ha='center', va= 'bottom',fontsize=7)"
   ]
  },
  {
   "cell_type": "code",
   "execution_count": 54,
   "metadata": {},
   "outputs": [
    {
     "name": "stdout",
     "output_type": "stream",
     "text": [
      "Average of positive rating: \n",
      "\n",
      "81.69031102811851\n"
     ]
    }
   ],
   "source": [
    "print(\"Average of positive rating: \\n\")\n",
    "ave_num = sum(num_pro)/len(num_pro)\n",
    "print(ave_num)"
   ]
  },
  {
   "cell_type": "code",
   "execution_count": null,
   "metadata": {},
   "outputs": [],
   "source": []
  }
 ],
 "metadata": {
  "kernelspec": {
   "display_name": "Python 3",
   "language": "python",
   "name": "python3"
  },
  "language_info": {
   "codemirror_mode": {
    "name": "ipython",
    "version": 3
   },
   "file_extension": ".py",
   "mimetype": "text/x-python",
   "name": "python",
   "nbconvert_exporter": "python",
   "pygments_lexer": "ipython3",
   "version": "3.6.6"
  }
 },
 "nbformat": 4,
 "nbformat_minor": 2
}
