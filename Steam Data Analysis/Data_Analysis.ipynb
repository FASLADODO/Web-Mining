{
 "cells": [
  {
   "cell_type": "code",
   "execution_count": 4,
   "metadata": {},
   "outputs": [],
   "source": [
    "'''\n",
    "Data:2018-10-30\n",
    "Author: Kai Zhang\n",
    "Stevens Intitute of Technology\n",
    "Description:merge multiple files into a aingle csv file\n",
    "'''\n",
    "import pandas as pd\n",
    "import os\n",
    "Folder_Path = r'C:\\Users\\yongk\\Documents\\PythonLearning\\Steam Data Analysis\\Data'          \n",
    "#要拼接的文件夹及其完整路径，注意不要包含中文\n",
    "SaveFile_Path =  r'C:\\Users\\yongk\\Documents\\PythonLearning\\Steam Data Analysis\\Data'       \n",
    "#拼接后要保存的文件路径\n",
    "SaveFile_Name = r'game_data_all.csv'              \n",
    "#合并后要保存的文件名\n",
    " \n",
    "#修改当前工作目录\n",
    "os.chdir(Folder_Path)\n",
    "#将该文件夹下的所有文件名存入一个列表\n",
    "file_list = os.listdir()\n",
    " \n",
    "#读取第一个CSV文件并包含表头\n",
    "df = pd.read_csv(Folder_Path +'\\\\'+ file_list[0])   #编码默认UTF-8，若乱码自行更改\n",
    " \n",
    "#将读取的第一个CSV文件写入合并后的文件保存\n",
    "df.to_csv(SaveFile_Path+'\\\\'+ SaveFile_Name,encoding=\"utf_8_sig\",index=False)\n",
    " \n",
    "#循环遍历列表中各个CSV文件名，并追加到合并后的文件\n",
    "for i in range(1,len(file_list)):\n",
    "    df = pd.read_csv(Folder_Path + '\\\\'+ file_list[i])\n",
    "    df.to_csv(SaveFile_Path+'\\\\'+ SaveFile_Name,encoding=\"utf_8_sig\",index=False, header=False, mode='a+')"
   ]
  },
  {
   "cell_type": "code",
   "execution_count": null,
   "metadata": {},
   "outputs": [],
   "source": []
  }
 ],
 "metadata": {
  "kernelspec": {
   "display_name": "Python 3",
   "language": "python",
   "name": "python3"
  },
  "language_info": {
   "codemirror_mode": {
    "name": "ipython",
    "version": 3
   },
   "file_extension": ".py",
   "mimetype": "text/x-python",
   "name": "python",
   "nbconvert_exporter": "python",
   "pygments_lexer": "ipython3",
   "version": "3.6.7"
  }
 },
 "nbformat": 4,
 "nbformat_minor": 2
}
