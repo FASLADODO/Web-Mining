{
 "cells": [
  {
   "cell_type": "markdown",
   "metadata": {},
   "source": [
    "# game score\n",
    "- positive 2 credits\n",
    "- negative 1 credits\n",
    "- score: (2*# of positive reviews - 1*# of negative reviews)/total# *10   (range: 0-10)"
   ]
  },
  {
   "cell_type": "code",
   "execution_count": 58,
   "metadata": {},
   "outputs": [],
   "source": [
    "import pandas as pd"
   ]
  },
  {
   "cell_type": "code",
   "execution_count": 59,
   "metadata": {},
   "outputs": [
    {
     "data": {
      "text/plain": [
       "5442"
      ]
     },
     "execution_count": 59,
     "metadata": {},
     "output_type": "execute_result"
    }
   ],
   "source": [
    "path=\"E:/Steam Reviews Analysis/Mid-term Submission/BIA-660 Project Data Subset.csv\"\n",
    "df=pd.read_csv(path)\n",
    "len(df)"
   ]
  },
  {
   "cell_type": "code",
   "execution_count": 21,
   "metadata": {},
   "outputs": [
    {
     "data": {
      "text/html": [
       "<div>\n",
       "<style scoped>\n",
       "    .dataframe tbody tr th:only-of-type {\n",
       "        vertical-align: middle;\n",
       "    }\n",
       "\n",
       "    .dataframe tbody tr th {\n",
       "        vertical-align: top;\n",
       "    }\n",
       "\n",
       "    .dataframe thead th {\n",
       "        text-align: right;\n",
       "    }\n",
       "</style>\n",
       "<table border=\"1\" class=\"dataframe\">\n",
       "  <thead>\n",
       "    <tr style=\"text-align: right;\">\n",
       "      <th></th>\n",
       "      <th>user_name</th>\n",
       "      <th>user_product</th>\n",
       "      <th>helpful</th>\n",
       "      <th>funny</th>\n",
       "      <th>post_date</th>\n",
       "      <th>recommend_or_not</th>\n",
       "      <th>game_time</th>\n",
       "      <th>review</th>\n",
       "    </tr>\n",
       "  </thead>\n",
       "  <tbody>\n",
       "    <tr>\n",
       "      <th>0</th>\n",
       "      <td>facciola007</td>\n",
       "      <td>304</td>\n",
       "      <td>4</td>\n",
       "      <td>0</td>\n",
       "      <td>2016/09/15</td>\n",
       "      <td>Recommended</td>\n",
       "      <td>235.2</td>\n",
       "      <td>amaze happy seem good far alpha release pre da...</td>\n",
       "    </tr>\n",
       "    <tr>\n",
       "      <th>1</th>\n",
       "      <td>Dixie Normous</td>\n",
       "      <td>257</td>\n",
       "      <td>2</td>\n",
       "      <td>0</td>\n",
       "      <td>2016/09/15</td>\n",
       "      <td>Recommended</td>\n",
       "      <td>156.3</td>\n",
       "      <td>enjoy i've play far graphically look great bar...</td>\n",
       "    </tr>\n",
       "    <tr>\n",
       "      <th>2</th>\n",
       "      <td>InquisitorTea</td>\n",
       "      <td>364</td>\n",
       "      <td>31</td>\n",
       "      <td>1</td>\n",
       "      <td>2016/09/15</td>\n",
       "      <td>Recommended</td>\n",
       "      <td>8.5</td>\n",
       "      <td>run well early access original sin good every ...</td>\n",
       "    </tr>\n",
       "    <tr>\n",
       "      <th>3</th>\n",
       "      <td>Longmire</td>\n",
       "      <td>115</td>\n",
       "      <td>2</td>\n",
       "      <td>0</td>\n",
       "      <td>2016/09/15</td>\n",
       "      <td>Recommended</td>\n",
       "      <td>16.6</td>\n",
       "      <td>play hour far seem like great road far multipl...</td>\n",
       "    </tr>\n",
       "    <tr>\n",
       "      <th>4</th>\n",
       "      <td>Fanest</td>\n",
       "      <td>0</td>\n",
       "      <td>6</td>\n",
       "      <td>2</td>\n",
       "      <td>2016/09/15</td>\n",
       "      <td>Recommended</td>\n",
       "      <td>212.8</td>\n",
       "      <td>play arena pvp tell source point op option pla...</td>\n",
       "    </tr>\n",
       "  </tbody>\n",
       "</table>\n",
       "</div>"
      ],
      "text/plain": [
       "       user_name user_product helpful funny   post_date recommend_or_not  \\\n",
       "0    facciola007          304       4     0  2016/09/15      Recommended   \n",
       "1  Dixie Normous          257       2     0  2016/09/15      Recommended   \n",
       "2  InquisitorTea          364      31     1  2016/09/15      Recommended   \n",
       "3       Longmire          115       2     0  2016/09/15      Recommended   \n",
       "4         Fanest            0       6     2  2016/09/15      Recommended   \n",
       "\n",
       "  game_time                                             review  \n",
       "0     235.2  amaze happy seem good far alpha release pre da...  \n",
       "1     156.3  enjoy i've play far graphically look great bar...  \n",
       "2       8.5  run well early access original sin good every ...  \n",
       "3      16.6  play hour far seem like great road far multipl...  \n",
       "4     212.8  play arena pvp tell source point op option pla...  "
      ]
     },
     "execution_count": 21,
     "metadata": {},
     "output_type": "execute_result"
    }
   ],
   "source": [
    "df.head()"
   ]
  },
  {
   "cell_type": "markdown",
   "metadata": {},
   "source": [
    "## score"
   ]
  },
  {
   "cell_type": "code",
   "execution_count": 22,
   "metadata": {},
   "outputs": [
    {
     "data": {
      "text/plain": [
       "7.378721058434399"
      ]
     },
     "execution_count": 22,
     "metadata": {},
     "output_type": "execute_result"
    }
   ],
   "source": [
    "df_pos=pd.DataFrame()\n",
    "df_neg=pd.DataFrame()\n",
    "df_pos=df[df[\"recommend_or_not\"]==\"Recommended\"]\n",
    "df_neg=df[df[\"recommend_or_not\"]==\"Not Recommended\"]\n",
    "num_pos=len(df_pos)\n",
    "num_neg=len(df_neg)\n",
    "num_total=len(df)\n",
    "score=(2*num_pos-1*num_neg)/(num_total*2)*10\n",
    "score"
   ]
  },
  {
   "cell_type": "markdown",
   "metadata": {},
   "source": [
    "## add a new column for identifying month-based reviews"
   ]
  },
  {
   "cell_type": "code",
   "execution_count": 23,
   "metadata": {
    "scrolled": false
   },
   "outputs": [
    {
     "data": {
      "text/plain": [
       "4491"
      ]
     },
     "execution_count": 23,
     "metadata": {},
     "output_type": "execute_result"
    }
   ],
   "source": [
    "df['ym']=0\n",
    "#df['ym']=Series(np.random.randn(num_total), index=df1.index)\n",
    "for i in range(num_total):\n",
    "    df.loc[i,\"ym\"]= df[\"post_date\"][i][0:7]\n",
    "#question\n",
    "#dataframe create a new column\n",
    "#http://pandas.pydata.org/pandas-docs/stable/indexing.html#indexing-view-versus-copy\n",
    "len(df)\n",
    "len(df_pos)"
   ]
  },
  {
   "cell_type": "markdown",
   "metadata": {},
   "source": [
    "### ym means year and month, ymd means year, month, day"
   ]
  },
  {
   "cell_type": "code",
   "execution_count": 40,
   "metadata": {},
   "outputs": [
    {
     "data": {
      "text/plain": [
       "'2016-09-15'"
      ]
     },
     "execution_count": 40,
     "metadata": {},
     "output_type": "execute_result"
    }
   ],
   "source": [
    "import matplotlib.pyplot as plt\n",
    "ym=['2016/09','2016/10','2016/11','2016/12','2017/01','2017/02','2017/03','2017/04','2017/05','2017/06','2017/07','2017/08','2017/09',\\\n",
    "   '2017/10','2017/11','2017/12','2018/01','2018/02','2018/03','2018/04','2018/05','2018/06','2018/07','2018/08','2018/09',\\\n",
    "   '2018/10','2018/11','2018/12']\n",
    "#ymd=[]\n",
    "#from datetime import date, datetime, timedelta\n",
    "\n",
    "#def perdelta(start, end, delta):\n",
    "#    curr = start\n",
    "#    while curr < end:\n",
    "#        yield curr\n",
    "#        curr += delta\n",
    "\n",
    "#for result in perdelta(date(2011, 10, 10), date(2011, 12, 12), timedelta(days=4)):\n",
    "#    ymd.append(result.strftime('%Y-%m-%d'))"
   ]
  },
  {
   "cell_type": "code",
   "execution_count": 24,
   "metadata": {},
   "outputs": [],
   "source": [
    "df_time=[]\n",
    "df_time_pos=[]\n",
    "df_time_neg=[]\n",
    "num_reviews=[]\n",
    "num_reviews_pos=[]\n",
    "num_reviews_neg=[]\n",
    "for a in ym:\n",
    "    # store the dataframe every month into a list. df_time[0] means the dataframe on 15/09/2016\n",
    "    df_time.append(df[df[\"ym\"]==a])\n",
    "    df_time_pos.append(df[(df[\"ym\"]==a) & (df[\"recommend_or_not\"]==\"Recommended\")])\n",
    "    df_time_neg.append(df[(df[\"ym\"]==a) & (df[\"recommend_or_not\"]==\"Not Recommended\")])\n",
    "time_interval=len(df_time)\n",
    "for i in range(time_interval):\n",
    "    num_reviews.append(len(df_time[i]))\n",
    "    num_reviews_pos.append(len(df_time_pos[i]))\n",
    "    num_reviews_neg.append(len(df_time_neg[i]))"
   ]
  },
  {
   "cell_type": "code",
   "execution_count": 51,
   "metadata": {},
   "outputs": [
    {
     "name": "stdout",
     "output_type": "stream",
     "text": [
      "28\n",
      "5442\n"
     ]
    },
    {
     "data": {
      "text/plain": [
       "195"
      ]
     },
     "execution_count": 51,
     "metadata": {},
     "output_type": "execute_result"
    }
   ],
   "source": [
    "print(len(num_reviews))\n",
    "print(len(df_daily))"
   ]
  },
  {
   "cell_type": "code",
   "execution_count": 74,
   "metadata": {},
   "outputs": [
    {
     "data": {
      "text/html": [
       "<div>\n",
       "<style scoped>\n",
       "    .dataframe tbody tr th:only-of-type {\n",
       "        vertical-align: middle;\n",
       "    }\n",
       "\n",
       "    .dataframe tbody tr th {\n",
       "        vertical-align: top;\n",
       "    }\n",
       "\n",
       "    .dataframe thead th {\n",
       "        text-align: right;\n",
       "    }\n",
       "</style>\n",
       "<table border=\"1\" class=\"dataframe\">\n",
       "  <thead>\n",
       "    <tr style=\"text-align: right;\">\n",
       "      <th></th>\n",
       "      <th>user_name</th>\n",
       "      <th>user_product</th>\n",
       "      <th>helpful</th>\n",
       "      <th>funny</th>\n",
       "      <th>post_date</th>\n",
       "      <th>recommend_or_not</th>\n",
       "      <th>game_time</th>\n",
       "      <th>review</th>\n",
       "    </tr>\n",
       "  </thead>\n",
       "  <tbody>\n",
       "    <tr>\n",
       "      <th>0</th>\n",
       "      <td>facciola007</td>\n",
       "      <td>304</td>\n",
       "      <td>4</td>\n",
       "      <td>0</td>\n",
       "      <td>2016-09-15</td>\n",
       "      <td>Recommended</td>\n",
       "      <td>235.2</td>\n",
       "      <td>amaze happy seem good far alpha release pre da...</td>\n",
       "    </tr>\n",
       "    <tr>\n",
       "      <th>1</th>\n",
       "      <td>Dixie Normous</td>\n",
       "      <td>257</td>\n",
       "      <td>2</td>\n",
       "      <td>0</td>\n",
       "      <td>2016-09-15</td>\n",
       "      <td>Recommended</td>\n",
       "      <td>156.3</td>\n",
       "      <td>enjoy i've play far graphically look great bar...</td>\n",
       "    </tr>\n",
       "    <tr>\n",
       "      <th>2</th>\n",
       "      <td>InquisitorTea</td>\n",
       "      <td>364</td>\n",
       "      <td>31</td>\n",
       "      <td>1</td>\n",
       "      <td>2016-09-15</td>\n",
       "      <td>Recommended</td>\n",
       "      <td>8.5</td>\n",
       "      <td>run well early access original sin good every ...</td>\n",
       "    </tr>\n",
       "    <tr>\n",
       "      <th>3</th>\n",
       "      <td>Longmire</td>\n",
       "      <td>115</td>\n",
       "      <td>2</td>\n",
       "      <td>0</td>\n",
       "      <td>2016-09-15</td>\n",
       "      <td>Recommended</td>\n",
       "      <td>16.6</td>\n",
       "      <td>play hour far seem like great road far multipl...</td>\n",
       "    </tr>\n",
       "    <tr>\n",
       "      <th>4</th>\n",
       "      <td>Fanest</td>\n",
       "      <td>0</td>\n",
       "      <td>6</td>\n",
       "      <td>2</td>\n",
       "      <td>2016-09-15</td>\n",
       "      <td>Recommended</td>\n",
       "      <td>212.8</td>\n",
       "      <td>play arena pvp tell source point op option pla...</td>\n",
       "    </tr>\n",
       "  </tbody>\n",
       "</table>\n",
       "</div>"
      ],
      "text/plain": [
       "       user_name user_product helpful funny   post_date recommend_or_not  \\\n",
       "0    facciola007          304       4     0  2016-09-15      Recommended   \n",
       "1  Dixie Normous          257       2     0  2016-09-15      Recommended   \n",
       "2  InquisitorTea          364      31     1  2016-09-15      Recommended   \n",
       "3       Longmire          115       2     0  2016-09-15      Recommended   \n",
       "4         Fanest            0       6     2  2016-09-15      Recommended   \n",
       "\n",
       "  game_time                                             review  \n",
       "0     235.2  amaze happy seem good far alpha release pre da...  \n",
       "1     156.3  enjoy i've play far graphically look great bar...  \n",
       "2       8.5  run well early access original sin good every ...  \n",
       "3      16.6  play hour far seem like great road far multipl...  \n",
       "4     212.8  play arena pvp tell source point op option pla...  "
      ]
     },
     "execution_count": 74,
     "metadata": {},
     "output_type": "execute_result"
    }
   ],
   "source": [
    "for i in range(num_total):\n",
    "# test...  for i in range(3):\n",
    "    w=df[\"post_date\"][i].split('/')\n",
    "    q='-'.join(w)\n",
    "    df.loc[i,\"post_date\"]= q\n",
    "df.head()"
   ]
  },
  {
   "cell_type": "code",
   "execution_count": 68,
   "metadata": {},
   "outputs": [
    {
     "name": "stdout",
     "output_type": "stream",
     "text": [
      "680\n"
     ]
    }
   ],
   "source": [
    "dic ={}\n",
    "for i in range(num_total):\n",
    "    date = df.iloc[i][\"post_date\"]\n",
    "    if date not in dic:\n",
    "        dic[date] =1\n",
    "    else:\n",
    "        dic[date]+=1\n",
    "print(len(dic))"
   ]
  },
  {
   "cell_type": "code",
   "execution_count": 79,
   "metadata": {},
   "outputs": [],
   "source": [
    "ds=[]\n",
    "y=[]\n",
    "for name in dic.keys():\n",
    "    ds.append(name)\n",
    "for num in dic.values():\n",
    "    y.append(num)"
   ]
  },
  {
   "cell_type": "code",
   "execution_count": 85,
   "metadata": {},
   "outputs": [
    {
     "data": {
      "text/html": [
       "<div>\n",
       "<style scoped>\n",
       "    .dataframe tbody tr th:only-of-type {\n",
       "        vertical-align: middle;\n",
       "    }\n",
       "\n",
       "    .dataframe tbody tr th {\n",
       "        vertical-align: top;\n",
       "    }\n",
       "\n",
       "    .dataframe thead th {\n",
       "        text-align: right;\n",
       "    }\n",
       "</style>\n",
       "<table border=\"1\" class=\"dataframe\">\n",
       "  <thead>\n",
       "    <tr style=\"text-align: right;\">\n",
       "      <th></th>\n",
       "      <th>ds</th>\n",
       "      <th>y</th>\n",
       "    </tr>\n",
       "  </thead>\n",
       "  <tbody>\n",
       "    <tr>\n",
       "      <th>0</th>\n",
       "      <td>2016-09-15</td>\n",
       "      <td>40</td>\n",
       "    </tr>\n",
       "    <tr>\n",
       "      <th>1</th>\n",
       "      <td>2016-09-16</td>\n",
       "      <td>28</td>\n",
       "    </tr>\n",
       "    <tr>\n",
       "      <th>2</th>\n",
       "      <td>2016-09-17</td>\n",
       "      <td>17</td>\n",
       "    </tr>\n",
       "    <tr>\n",
       "      <th>3</th>\n",
       "      <td>2016-09-18</td>\n",
       "      <td>17</td>\n",
       "    </tr>\n",
       "    <tr>\n",
       "      <th>4</th>\n",
       "      <td>2016-09-19</td>\n",
       "      <td>16</td>\n",
       "    </tr>\n",
       "  </tbody>\n",
       "</table>\n",
       "</div>"
      ],
      "text/plain": [
       "           ds   y\n",
       "0  2016-09-15  40\n",
       "1  2016-09-16  28\n",
       "2  2016-09-17  17\n",
       "3  2016-09-18  17\n",
       "4  2016-09-19  16"
      ]
     },
     "execution_count": 85,
     "metadata": {},
     "output_type": "execute_result"
    }
   ],
   "source": [
    "df_daily=pd.DataFrame()\n",
    "df_daily[\"ds\"]=ds\n",
    "df_daily[\"y\"]=y\n",
    "df_daily.head()"
   ]
  },
  {
   "cell_type": "markdown",
   "metadata": {},
   "source": [
    "## barchar(daily)"
   ]
  },
  {
   "cell_type": "code",
   "execution_count": 89,
   "metadata": {},
   "outputs": [
    {
     "data": {
      "text/plain": [
       "Text(0,0.5,'number of reviews')"
      ]
     },
     "execution_count": 89,
     "metadata": {},
     "output_type": "execute_result"
    },
    {
     "data": {
      "image/png": "[encoded data removed]",
      "text/plain": [
       "<Figure size 432x288 with 1 Axes>"
      ]
     },
     "metadata": {
      "needs_background": "light"
     },
     "output_type": "display_data"
    }
   ],
   "source": [
    "df_daily.set_index('ds').y.plot()\n",
    "plt.title(\"Review Analysis per Day\")\n",
    "plt.xlabel(\"date\")\n",
    "plt.ylabel(\"number of reviews\")"
   ]
  },
  {
   "cell_type": "code",
   "execution_count": 91,
   "metadata": {},
   "outputs": [
    {
     "name": "stderr",
     "output_type": "stream",
     "text": [
      "INFO:fbprophet.forecaster:Disabling daily seasonality. Run prophet with daily_seasonality=True to override this.\n",
      "K:\\Anaconda3\\lib\\site-packages\\pystan\\misc.py:399: FutureWarning: Conversion of the second argument of issubdtype from `float` to `np.floating` is deprecated. In future, it will be treated as `np.float64 == np.dtype(float).type`.\n",
      "  elif np.issubdtype(np.asarray(v).dtype, float):\n"
     ]
    },
    {
     "data": {
      "text/plain": [
       "<fbprophet.forecaster.Prophet at 0x1403b0b76a0>"
      ]
     },
     "execution_count": 91,
     "metadata": {},
     "output_type": "execute_result"
    }
   ],
   "source": [
    "from fbprophet import Prophet\n",
    "model = Prophet()\n",
    "model.fit(df_daily)"
   ]
  },
  {
   "cell_type": "code",
   "execution_count": 97,
   "metadata": {},
   "outputs": [
    {
     "data": {
      "text/html": [
       "<div>\n",
       "<style scoped>\n",
       "    .dataframe tbody tr th:only-of-type {\n",
       "        vertical-align: middle;\n",
       "    }\n",
       "\n",
       "    .dataframe tbody tr th {\n",
       "        vertical-align: top;\n",
       "    }\n",
       "\n",
       "    .dataframe thead th {\n",
       "        text-align: right;\n",
       "    }\n",
       "</style>\n",
       "<table border=\"1\" class=\"dataframe\">\n",
       "  <thead>\n",
       "    <tr style=\"text-align: right;\">\n",
       "      <th></th>\n",
       "      <th>ds</th>\n",
       "    </tr>\n",
       "  </thead>\n",
       "  <tbody>\n",
       "    <tr>\n",
       "      <th>705</th>\n",
       "      <td>2018-11-27</td>\n",
       "    </tr>\n",
       "    <tr>\n",
       "      <th>706</th>\n",
       "      <td>2018-11-28</td>\n",
       "    </tr>\n",
       "    <tr>\n",
       "      <th>707</th>\n",
       "      <td>2018-11-29</td>\n",
       "    </tr>\n",
       "    <tr>\n",
       "      <th>708</th>\n",
       "      <td>2018-11-30</td>\n",
       "    </tr>\n",
       "    <tr>\n",
       "      <th>709</th>\n",
       "      <td>2018-12-01</td>\n",
       "    </tr>\n",
       "  </tbody>\n",
       "</table>\n",
       "</div>"
      ],
      "text/plain": [
       "            ds\n",
       "705 2018-11-27\n",
       "706 2018-11-28\n",
       "707 2018-11-29\n",
       "708 2018-11-30\n",
       "709 2018-12-01"
      ]
     },
     "execution_count": 97,
     "metadata": {},
     "output_type": "execute_result"
    }
   ],
   "source": [
    "future = model.make_future_dataframe(periods=30, freq = 'd')\n",
    "future.tail()"
   ]
  },
  {
   "cell_type": "code",
   "execution_count": 93,
   "metadata": {},
   "outputs": [],
   "source": [
    "forecast = model.predict(future)"
   ]
  },
  {
   "cell_type": "code",
   "execution_count": 100,
   "metadata": {},
   "outputs": [
    {
     "data": {
      "text/html": [
       "<div>\n",
       "<style scoped>\n",
       "    .dataframe tbody tr th:only-of-type {\n",
       "        vertical-align: middle;\n",
       "    }\n",
       "\n",
       "    .dataframe tbody tr th {\n",
       "        vertical-align: top;\n",
       "    }\n",
       "\n",
       "    .dataframe thead th {\n",
       "        text-align: right;\n",
       "    }\n",
       "</style>\n",
       "<table border=\"1\" class=\"dataframe\">\n",
       "  <thead>\n",
       "    <tr style=\"text-align: right;\">\n",
       "      <th></th>\n",
       "      <th>ds</th>\n",
       "      <th>trend</th>\n",
       "      <th>trend_lower</th>\n",
       "      <th>trend_upper</th>\n",
       "      <th>yhat_lower</th>\n",
       "      <th>yhat_upper</th>\n",
       "      <th>additive_terms</th>\n",
       "      <th>additive_terms_lower</th>\n",
       "      <th>additive_terms_upper</th>\n",
       "      <th>multiplicative_terms</th>\n",
       "      <th>multiplicative_terms_lower</th>\n",
       "      <th>multiplicative_terms_upper</th>\n",
       "      <th>weekly</th>\n",
       "      <th>weekly_lower</th>\n",
       "      <th>weekly_upper</th>\n",
       "      <th>yearly</th>\n",
       "      <th>yearly_lower</th>\n",
       "      <th>yearly_upper</th>\n",
       "      <th>yhat</th>\n",
       "    </tr>\n",
       "  </thead>\n",
       "  <tbody>\n",
       "    <tr>\n",
       "      <th>705</th>\n",
       "      <td>2018-11-27</td>\n",
       "      <td>-7.816216</td>\n",
       "      <td>-7.894241</td>\n",
       "      <td>-7.706979</td>\n",
       "      <td>-18.746406</td>\n",
       "      <td>11.362778</td>\n",
       "      <td>4.494977</td>\n",
       "      <td>4.494977</td>\n",
       "      <td>4.494977</td>\n",
       "      <td>0.0</td>\n",
       "      <td>0.0</td>\n",
       "      <td>0.0</td>\n",
       "      <td>-0.988817</td>\n",
       "      <td>-0.988817</td>\n",
       "      <td>-0.988817</td>\n",
       "      <td>5.483793</td>\n",
       "      <td>5.483793</td>\n",
       "      <td>5.483793</td>\n",
       "      <td>-3.321240</td>\n",
       "    </tr>\n",
       "    <tr>\n",
       "      <th>706</th>\n",
       "      <td>2018-11-28</td>\n",
       "      <td>-7.903545</td>\n",
       "      <td>-7.986447</td>\n",
       "      <td>-7.786538</td>\n",
       "      <td>-17.817644</td>\n",
       "      <td>12.101857</td>\n",
       "      <td>4.799905</td>\n",
       "      <td>4.799905</td>\n",
       "      <td>4.799905</td>\n",
       "      <td>0.0</td>\n",
       "      <td>0.0</td>\n",
       "      <td>0.0</td>\n",
       "      <td>-0.452983</td>\n",
       "      <td>-0.452983</td>\n",
       "      <td>-0.452983</td>\n",
       "      <td>5.252888</td>\n",
       "      <td>5.252888</td>\n",
       "      <td>5.252888</td>\n",
       "      <td>-3.103640</td>\n",
       "    </tr>\n",
       "    <tr>\n",
       "      <th>707</th>\n",
       "      <td>2018-11-29</td>\n",
       "      <td>-7.990873</td>\n",
       "      <td>-8.082486</td>\n",
       "      <td>-7.865377</td>\n",
       "      <td>-16.709261</td>\n",
       "      <td>13.738515</td>\n",
       "      <td>6.425740</td>\n",
       "      <td>6.425740</td>\n",
       "      <td>6.425740</td>\n",
       "      <td>0.0</td>\n",
       "      <td>0.0</td>\n",
       "      <td>0.0</td>\n",
       "      <td>1.474194</td>\n",
       "      <td>1.474194</td>\n",
       "      <td>1.474194</td>\n",
       "      <td>4.951546</td>\n",
       "      <td>4.951546</td>\n",
       "      <td>4.951546</td>\n",
       "      <td>-1.565133</td>\n",
       "    </tr>\n",
       "    <tr>\n",
       "      <th>708</th>\n",
       "      <td>2018-11-30</td>\n",
       "      <td>-8.078202</td>\n",
       "      <td>-8.177298</td>\n",
       "      <td>-7.943487</td>\n",
       "      <td>-17.585075</td>\n",
       "      <td>11.236842</td>\n",
       "      <td>4.663767</td>\n",
       "      <td>4.663767</td>\n",
       "      <td>4.663767</td>\n",
       "      <td>0.0</td>\n",
       "      <td>0.0</td>\n",
       "      <td>0.0</td>\n",
       "      <td>0.079784</td>\n",
       "      <td>0.079784</td>\n",
       "      <td>0.079784</td>\n",
       "      <td>4.583982</td>\n",
       "      <td>4.583982</td>\n",
       "      <td>4.583982</td>\n",
       "      <td>-3.414435</td>\n",
       "    </tr>\n",
       "    <tr>\n",
       "      <th>709</th>\n",
       "      <td>2018-12-01</td>\n",
       "      <td>-8.165530</td>\n",
       "      <td>-8.273800</td>\n",
       "      <td>-8.024944</td>\n",
       "      <td>-19.165291</td>\n",
       "      <td>10.774132</td>\n",
       "      <td>4.260930</td>\n",
       "      <td>4.260930</td>\n",
       "      <td>4.260930</td>\n",
       "      <td>0.0</td>\n",
       "      <td>0.0</td>\n",
       "      <td>0.0</td>\n",
       "      <td>0.104772</td>\n",
       "      <td>0.104772</td>\n",
       "      <td>0.104772</td>\n",
       "      <td>4.156159</td>\n",
       "      <td>4.156159</td>\n",
       "      <td>4.156159</td>\n",
       "      <td>-3.904600</td>\n",
       "    </tr>\n",
       "  </tbody>\n",
       "</table>\n",
       "</div>"
      ],
      "text/plain": [
       "            ds     trend  trend_lower  trend_upper  yhat_lower  yhat_upper  \\\n",
       "705 2018-11-27 -7.816216    -7.894241    -7.706979  -18.746406   11.362778   \n",
       "706 2018-11-28 -7.903545    -7.986447    -7.786538  -17.817644   12.101857   \n",
       "707 2018-11-29 -7.990873    -8.082486    -7.865377  -16.709261   13.738515   \n",
       "708 2018-11-30 -8.078202    -8.177298    -7.943487  -17.585075   11.236842   \n",
       "709 2018-12-01 -8.165530    -8.273800    -8.024944  -19.165291   10.774132   \n",
       "\n",
       "     additive_terms  additive_terms_lower  additive_terms_upper  \\\n",
       "705        4.494977              4.494977              4.494977   \n",
       "706        4.799905              4.799905              4.799905   \n",
       "707        6.425740              6.425740              6.425740   \n",
       "708        4.663767              4.663767              4.663767   \n",
       "709        4.260930              4.260930              4.260930   \n",
       "\n",
       "     multiplicative_terms  multiplicative_terms_lower  \\\n",
       "705                   0.0                         0.0   \n",
       "706                   0.0                         0.0   \n",
       "707                   0.0                         0.0   \n",
       "708                   0.0                         0.0   \n",
       "709                   0.0                         0.0   \n",
       "\n",
       "     multiplicative_terms_upper    weekly  weekly_lower  weekly_upper  \\\n",
       "705                         0.0 -0.988817     -0.988817     -0.988817   \n",
       "706                         0.0 -0.452983     -0.452983     -0.452983   \n",
       "707                         0.0  1.474194      1.474194      1.474194   \n",
       "708                         0.0  0.079784      0.079784      0.079784   \n",
       "709                         0.0  0.104772      0.104772      0.104772   \n",
       "\n",
       "       yearly  yearly_lower  yearly_upper      yhat  \n",
       "705  5.483793      5.483793      5.483793 -3.321240  \n",
       "706  5.252888      5.252888      5.252888 -3.103640  \n",
       "707  4.951546      4.951546      4.951546 -1.565133  \n",
       "708  4.583982      4.583982      4.583982 -3.414435  \n",
       "709  4.156159      4.156159      4.156159 -3.904600  "
      ]
     },
     "execution_count": 100,
     "metadata": {},
     "output_type": "execute_result"
    }
   ],
   "source": [
    "forecast.tail()"
   ]
  },
  {
   "cell_type": "code",
   "execution_count": 95,
   "metadata": {},
   "outputs": [
    {
     "data": {
      "image/png": "[encoded data removed]",
      "text/plain": [
       "<Figure size 720x432 with 1 Axes>"
      ]
     },
     "metadata": {},
     "output_type": "display_data"
    }
   ],
   "source": [
    "model.plot(forecast);"
   ]
  },
  {
   "cell_type": "code",
   "execution_count": 75,
   "metadata": {},
   "outputs": [],
   "source": [
    "#test the format transmission\n",
    "# df_daily=pd.DataFrame()\n",
    "# for i in range(num_total):\n",
    "# # test...  for i in range(3):\n",
    "#     w=df[\"post_date\"][0].split('/')\n",
    "#     q='-'.join(w)\n",
    "#     df_daily.loc[i,\"ds\"]= q\n",
    "# df_daily.head()"
   ]
  },
  {
   "cell_type": "markdown",
   "metadata": {},
   "source": [
    "## barchart (month)"
   ]
  },
  {
   "cell_type": "code",
   "execution_count": 14,
   "metadata": {},
   "outputs": [
    {
     "data": {
      "image/png": "[encoded data removed]",
      "text/plain": [
       "<matplotlib.figure.Figure at 0x2341c151320>"
      ]
     },
     "metadata": {
      "needs_background": "light"
     },
     "output_type": "display_data"
    }
   ],
   "source": [
    "group= len(num_reviews)\n",
    "\n",
    "index = np.arange(group)#通过下标index统计排列\n",
    "width = 0.35\n",
    "s1 = plt.bar(index,num_reviews_pos , width, alpha=0.66, color='blue', label='Positive')#设置柱状图的对象、宽度、透明度、颜色以及标签\n",
    "s2 = plt.bar(index, num_reviews_neg, width, alpha=0.66, color='orange', label='Negtive')\n",
    "plt.title(\"Review Analysis per Month\")\n",
    "plt.ylabel(\"Number of reviews\")#设置y轴坐标\n",
    "plt.xticks(index + width, ym)#设置x轴上数据的名称\n",
    "plt.legend()#设置图例\n",
    "plt.show()#显示"
   ]
  },
  {
   "cell_type": "code",
   "execution_count": 17,
   "metadata": {
    "scrolled": false
   },
   "outputs": [
    {
     "data": {
      "text/plain": [
       "<matplotlib.legend.Legend at 0x2341d44afd0>"
      ]
     },
     "execution_count": 17,
     "metadata": {},
     "output_type": "execute_result"
    },
    {
     "data": {
      "image/png": "[encoded data removed]",
      "text/plain": [
       "<matplotlib.figure.Figure at 0x2341d309780>"
      ]
     },
     "metadata": {
      "needs_background": "light"
     },
     "output_type": "display_data"
    }
   ],
   "source": [
    "plt.subplot(211) \n",
    "width=1.5\n",
    "s1=plt.bar(ym, num_reviews, label='Negative')\n",
    "#a=plt.bar(ym, num_reviews_pos)\n",
    "s2=plt.bar(ym, num_reviews_pos, label='Positive')\n",
    "plt.title(\"Review Analysis per Month\")\n",
    "plt.ylabel('number of reviews')\n",
    "plt.xlabel('data')\n",
    "plt.legend()\n",
    "#a.legend('positive')\n",
    "#expand\n",
    "#plt.figure(figsize = (100,20))\n",
    "#plt.xticks([0,np.pi/2,np.pi,3*np.pi/2,2*np.pi],ym, rotation=90) #rotate\n",
    "\n",
    "#plt.savefig(\"examples.jpg\")\n",
    "\n",
    "plt.subplot(212) \n",
    "s3=plt.bar(ym, num_pro, label='positive feedback')\n",
    "plt.title(\"postive rating\")\n",
    "plt.ylabel('posivie/total %')\n",
    "plt.xlabel('data')\n",
    "plt.legend()\n",
    "#for a,b in zip(x,y):\n",
    "#    plt.text(a, b+0.05, '%.0f' % b, ha='center', va= 'bottom',fontsize=7)"
   ]
  },
  {
   "cell_type": "code",
   "execution_count": 16,
   "metadata": {},
   "outputs": [],
   "source": [
    "# positive / total\n",
    "num_pro=[]\n",
    "for i in range(len(num_reviews)):\n",
    "    if num_reviews[i]==0:\n",
    "        num_pro.append(0)\n",
    "    else:\n",
    "        num_pro.append(num_reviews_pos[i]/num_reviews[i]*100)\n",
    "#num_pro"
   ]
  },
  {
   "cell_type": "code",
   "execution_count": 219,
   "metadata": {},
   "outputs": [
    {
     "name": "stdout",
     "output_type": "stream",
     "text": [
      "12.0\n"
     ]
    }
   ],
   "source": [
    "ym1=list(range(0,24))\n",
    "num_reviews1=num_reviews[0:24]\n",
    "x=np.mean(ym1)\n",
    "y=np.mean(num_reviews)\n",
    "sum_x=0\n",
    "def forecast(index):\n",
    "    sum_x=np.sum(list(range(index+1)))\n",
    "    x_bar=sum_x/(index+1)\n",
    "    \n",
    "    print(x_bar)\n",
    "c=forecast(24)\n",
    "c"
   ]
  },
  {
   "cell_type": "code",
   "execution_count": 18,
   "metadata": {},
   "outputs": [
    {
     "data": {
      "text/plain": [
       "255.2910559006211"
      ]
     },
     "execution_count": 18,
     "metadata": {},
     "output_type": "execute_result"
    }
   ],
   "source": [
    "import numpy as np\n",
    "#y=a+b*x\n",
    "#a=y_bar-b*x_bar\n",
    "#b=sum(x-x_bar)(y-y_bar) / sum(x-x_bar)*(x-x_bar)\n",
    "#set ym to ym1 [1,2,....,28]\n",
    "ym1=list(range(0,24))\n",
    "num_reviews1=num_reviews[0:24]\n",
    "x_bar=np.mean(ym1)\n",
    "y_bar=np.mean(num_reviews)\n",
    "sum_x=0\n",
    "xy_temp=[]\n",
    "x2_temp=[]\n",
    "for i in range(len(ym1)):\n",
    "    temp_xy=(ym1[i]-x_bar)*(num_reviews1[i]-y_bar)\n",
    "    temp_x2=(ym1[i]-x_bar)*(ym1[i]-x_bar)\n",
    "    xy_temp.append(temp_xy)\n",
    "    x2_temp.append(temp_x2)\n",
    "b=(np.sum(xy_temp))/(np.sum(x2_temp))\n",
    "a=y_bar-b*x_bar\n",
    "\n",
    "def forecast(x):\n",
    "    y=a+b*x\n",
    "    return y\n",
    "\n",
    "c=forecast(20)\n",
    "c"
   ]
  },
  {
   "cell_type": "markdown",
   "metadata": {},
   "source": [
    "## curve fitting"
   ]
  },
  {
   "cell_type": "code",
   "execution_count": 49,
   "metadata": {},
   "outputs": [
    {
     "name": "stdout",
     "output_type": "stream",
     "text": [
      "        3         2\n",
      "-4.249 x + 106.5 x - 844 x + 2237\n"
     ]
    }
   ],
   "source": [
    "x = np.arange(1,13,1)\n",
    "y = np.array(num_reviews1)\n",
    "z1 = np.polyfit(x, y, 3)#用3次多项式拟合\n",
    "p1 = np.poly1d(z1)\n",
    "print(p1) #在屏幕上打印拟合多项式"
   ]
  },
  {
   "cell_type": "code",
   "execution_count": 51,
   "metadata": {},
   "outputs": [
    {
     "data": {
      "text/plain": [
       "[<matplotlib.lines.Line2D at 0x2341c1a73c8>]"
      ]
     },
     "execution_count": 51,
     "metadata": {},
     "output_type": "execute_result"
    },
    {
     "data": {
      "image/png": "[encoded data removed]",
      "text/plain": [
       "<matplotlib.figure.Figure at 0x2341c1a70b8>"
      ]
     },
     "metadata": {
      "needs_background": "light"
     },
     "output_type": "display_data"
    }
   ],
   "source": [
    "x = np.arange(1,13,1)\n",
    "y = np.array(num_reviews1)\n",
    "plt.plot(x, y,\"*\")\n",
    "x = np.arange(1,13,1)\n",
    "y = np.array(-4.249*x*x*x+106.5*x*x-844*x+2237)\n",
    "plt.plot(x, y)"
   ]
  },
  {
   "cell_type": "code",
   "execution_count": 177,
   "metadata": {},
   "outputs": [
    {
     "data": {
      "text/plain": [
       "[<matplotlib.lines.Line2D at 0x276a0a7e8d0>]"
      ]
     },
     "execution_count": 177,
     "metadata": {},
     "output_type": "execute_result"
    },
    {
     "data": {
      "image/png": "[encoded data removed]",
      "text/plain": [
       "<matplotlib.figure.Figure at 0x276a0a6af28>"
      ]
     },
     "metadata": {
      "needs_background": "light"
     },
     "output_type": "display_data"
    }
   ],
   "source": [
    "ym1=ym[0:25]\n",
    "num_reviews1=num_reviews[0:25]\n",
    "plt.plot(ym,num_reviews)"
   ]
  },
  {
   "cell_type": "code",
   "execution_count": 45,
   "metadata": {},
   "outputs": [
    {
     "data": {
      "text/plain": [
       "Text(0.5,1,'curve_fit')"
      ]
     },
     "execution_count": 45,
     "metadata": {},
     "output_type": "execute_result"
    },
    {
     "data": {
      "image/png": "[encoded data removed]",
      "text/plain": [
       "<matplotlib.figure.Figure at 0x2341c1e55c0>"
      ]
     },
     "metadata": {
      "needs_background": "light"
     },
     "output_type": "display_data"
    }
   ],
   "source": [
    "ym1=list(range(1,25))\n",
    "num_reviews1=num_reviews[12:24]\n",
    "import numpy as np\n",
    "from scipy.optimize import curve_fit\n",
    "import matplotlib.pyplot as plt\n",
    "#用指数形式来拟合\n",
    "x = np.arange(1, 13, 1)\n",
    "y = np.array(num_reviews1)\n",
    "def func(x,a,b):\n",
    "    return a*np.exp(b/x)\n",
    "popt, pcov = curve_fit(func, x, y, maxfev=5000)\n",
    "a=popt[0]#popt里面是拟合系数，读者可以自己help其用法\n",
    "b=popt[1]\n",
    "yvals=func(x,a,b)\n",
    "plot1=plt.plot(x, y, '*',label='original values')\n",
    "plot2=plt.plot(x, yvals, 'r',label='curve_fit values')\n",
    "plt.xlabel('x axis')\n",
    "plt.ylabel('y axis')\n",
    "plt.legend(loc=4)#指定legend的位置,读者可以自己help它的用法\n",
    "plt.title('curve_fit')\n",
    "#plt.show()\n",
    "#plt.savefig('p2.png')"
   ]
  },
  {
   "cell_type": "code",
   "execution_count": null,
   "metadata": {},
   "outputs": [],
   "source": []
  }
 ],
 "metadata": {
  "kernelspec": {
   "display_name": "Python 3",
   "language": "python",
   "name": "python3"
  },
  "language_info": {
   "codemirror_mode": {
    "name": "ipython",
    "version": 3
   },
   "file_extension": ".py",
   "mimetype": "text/x-python",
   "name": "python",
   "nbconvert_exporter": "python",
   "pygments_lexer": "ipython3",
   "version": "3.6.6"
  }
 },
 "nbformat": 4,
 "nbformat_minor": 2
}
