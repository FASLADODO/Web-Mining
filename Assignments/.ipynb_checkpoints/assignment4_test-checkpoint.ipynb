{
 "cells": [
  {
   "cell_type": "code",
   "execution_count": 3,
   "metadata": {},
   "outputs": [
    {
     "name": "stdout",
     "output_type": "stream",
     "text": [
      "COM-101   COMPUTERS\n",
      "COM-111   DATABASE\n",
      "COM-211   ALGORITHM\n",
      "MAT-103   STATISTICS learning\n",
      "MAT-102   STATISTICS\n"
     ]
    }
   ],
   "source": [
    "from IPython.core.interactiveshell import InteractiveShell\n",
    "InteractiveShell.ast_node_interactivity = \"all\"\n",
    "\n",
    "import re\n",
    "\n",
    "text = \"\"\"COM-101   COMPUTERS\n",
    "COM-111   DATABASE\n",
    "COM-211   ALGORITHM\n",
    "MAT-103   STATISTICS learning\n",
    "MAT-102   STATISTICS\"\"\"\n",
    "print(text) "
   ]
  },
  {
   "cell_type": "code",
   "execution_count": 4,
   "metadata": {},
   "outputs": [
    {
     "data": {
      "text/plain": [
       "['COM', 'COM', 'COM', 'COM']"
      ]
     },
     "execution_count": 4,
     "metadata": {},
     "output_type": "execute_result"
    },
    {
     "data": {
      "text/plain": [
       "['COM']"
      ]
     },
     "execution_count": 4,
     "metadata": {},
     "output_type": "execute_result"
    },
    {
     "data": {
      "text/plain": [
       "['STATISTICS']"
      ]
     },
     "execution_count": 4,
     "metadata": {},
     "output_type": "execute_result"
    },
    {
     "data": {
      "text/plain": [
       "['101']"
      ]
     },
     "execution_count": 4,
     "metadata": {},
     "output_type": "execute_result"
    },
    {
     "data": {
      "text/plain": [
       "['101', '103', '102']"
      ]
     },
     "execution_count": 4,
     "metadata": {},
     "output_type": "execute_result"
    },
    {
     "data": {
      "text/plain": [
       "['103']"
      ]
     },
     "execution_count": 4,
     "metadata": {},
     "output_type": "execute_result"
    }
   ],
   "source": [
    "#re.findall(\".\",text)\n",
    "re.findall(\"COM\",text)\n",
    "re.findall(\"^COM\",text)\n",
    "re.findall(\"STATISTICS$\",text)\n",
    "re.findall(\"101\",text)\n",
    "re.findall('10[123]',text)\n",
    "re.findall('10[^12]',text)"
   ]
  },
  {
   "cell_type": "code",
   "execution_count": 5,
   "metadata": {},
   "outputs": [
    {
     "data": {
      "text/plain": [
       "['COM-1', 'COM-111', 'COM-']"
      ]
     },
     "execution_count": 5,
     "metadata": {},
     "output_type": "execute_result"
    },
    {
     "data": {
      "text/plain": [
       "['COM-1', 'COM-111']"
      ]
     },
     "execution_count": 5,
     "metadata": {},
     "output_type": "execute_result"
    },
    {
     "data": {
      "text/plain": [
       "['COM-1', 'COM-1', 'COM-']"
      ]
     },
     "execution_count": 5,
     "metadata": {},
     "output_type": "execute_result"
    }
   ],
   "source": [
    "re.findall('COM-1*',text)\n",
    "re.findall('COM-1+',text)\n",
    "re.findall('COM-1?',text)"
   ]
  },
  {
   "cell_type": "code",
   "execution_count": 6,
   "metadata": {},
   "outputs": [
    {
     "data": {
      "text/plain": [
       "['11', '11']"
      ]
     },
     "execution_count": 6,
     "metadata": {},
     "output_type": "execute_result"
    },
    {
     "data": {
      "text/plain": [
       "['111', '11']"
      ]
     },
     "execution_count": 6,
     "metadata": {},
     "output_type": "execute_result"
    },
    {
     "data": {
      "text/plain": [
       "['111']"
      ]
     },
     "execution_count": 6,
     "metadata": {},
     "output_type": "execute_result"
    }
   ],
   "source": [
    "re.findall('1{2}',text)\n",
    "re.findall('1{2,}',text)\n",
    "re.findall('1{3}',text)"
   ]
  },
  {
   "cell_type": "code",
   "execution_count": 7,
   "metadata": {},
   "outputs": [
    {
     "data": {
      "text/plain": [
       "['101', '111', '211', '103', '102']"
      ]
     },
     "execution_count": 7,
     "metadata": {},
     "output_type": "execute_result"
    },
    {
     "data": {
      "text/plain": [
       "['learning']"
      ]
     },
     "execution_count": 7,
     "metadata": {},
     "output_type": "execute_result"
    },
    {
     "data": {
      "text/plain": [
       "['COM',\n",
       " 'COMPUTERS',\n",
       " 'COM',\n",
       " 'DATABASE',\n",
       " 'COM',\n",
       " 'ALGORITHM',\n",
       " 'MAT',\n",
       " 'STATISTICS',\n",
       " 'MAT',\n",
       " 'STATISTICS']"
      ]
     },
     "execution_count": 7,
     "metadata": {},
     "output_type": "execute_result"
    }
   ],
   "source": [
    "re.findall('[0-9]+',text)\n",
    "re.findall('[a-z]+',text)\n",
    "re.findall('[A-Z]+',text)\n",
    "#re.findall('[a-zA-Z0-9]+',text)"
   ]
  },
  {
   "cell_type": "code",
   "execution_count": 8,
   "metadata": {},
   "outputs": [
    {
     "data": {
      "text/plain": [
       "['COM-',\n",
       " '   COMPUTERS\\nCOM-',\n",
       " '   DATABASE\\nCOM-',\n",
       " '   ALGORITHM\\nMAT-',\n",
       " '   STATISTICS learning\\nMAT-',\n",
       " '   STATISTICS']"
      ]
     },
     "execution_count": 8,
     "metadata": {},
     "output_type": "execute_result"
    },
    {
     "data": {
      "text/plain": [
       "['101', '103', '102']"
      ]
     },
     "execution_count": 8,
     "metadata": {},
     "output_type": "execute_result"
    }
   ],
   "source": [
    "re.findall('[^0-9]+',text)\n",
    "re.findall('101|102|103',text)"
   ]
  },
  {
   "cell_type": "raw",
   "metadata": {},
   "source": []
  },
  {
   "cell_type": "code",
   "execution_count": 9,
   "metadata": {},
   "outputs": [
    {
     "data": {
      "text/plain": [
       "['COM',\n",
       " '101',\n",
       " 'COMPUTERS',\n",
       " 'COM',\n",
       " '111',\n",
       " 'DATABASE',\n",
       " 'COM',\n",
       " '211',\n",
       " 'ALGORITHM',\n",
       " 'MAT',\n",
       " '103',\n",
       " 'STATISTICS',\n",
       " 'learning',\n",
       " 'MAT',\n",
       " '102',\n",
       " 'STATISTICS']"
      ]
     },
     "execution_count": 9,
     "metadata": {},
     "output_type": "execute_result"
    },
    {
     "data": {
      "text/plain": [
       "['-',\n",
       " '   ',\n",
       " '\\n',\n",
       " '-',\n",
       " '   ',\n",
       " '\\n',\n",
       " '-',\n",
       " '   ',\n",
       " '\\n',\n",
       " '-',\n",
       " '   ',\n",
       " ' ',\n",
       " '\\n',\n",
       " '-',\n",
       " '   ']"
      ]
     },
     "execution_count": 9,
     "metadata": {},
     "output_type": "execute_result"
    },
    {
     "data": {
      "text/plain": [
       "['M-',\n",
       " '1   ',\n",
       " 'S\\n',\n",
       " 'M-',\n",
       " '1   ',\n",
       " 'E\\n',\n",
       " 'M-',\n",
       " '1   ',\n",
       " 'M\\n',\n",
       " 'T-',\n",
       " '3   ',\n",
       " 'S ',\n",
       " 'g\\n',\n",
       " 'T-',\n",
       " '2   ']"
      ]
     },
     "execution_count": 9,
     "metadata": {},
     "output_type": "execute_result"
    }
   ],
   "source": [
    "re.findall('\\w+',text) #word character\n",
    "#re.findall('[a-zA-Z0-9]+',text)\n",
    "re.findall('\\W+',text)#non-word character\n",
    "re.findall('\\w\\W+',text)"
   ]
  },
  {
   "cell_type": "code",
   "execution_count": 10,
   "metadata": {},
   "outputs": [
    {
     "name": "stdout",
     "output_type": "stream",
     "text": [
      "find cat!\n",
      "The cat cat\n"
     ]
    }
   ],
   "source": [
    "text=\"The cat catches a rat\"\n",
    "\n",
    "match= re.search(r'.*cat',text)\n",
    "if match:\n",
    "    print (\"find cat!\")\n",
    "    print (match.group())\n",
    "else:\n",
    "    print (\"not found!\")\n",
    "# greedy match"
   ]
  },
  {
   "cell_type": "code",
   "execution_count": 17,
   "metadata": {},
   "outputs": [
    {
     "name": "stdout",
     "output_type": "stream",
     "text": [
      "['cat', 'cat']\n",
      "['The', 'cat', 'catches', 'a', 'rat']\n"
     ]
    }
   ],
   "source": [
    "# findall function\n",
    "match=re.findall(r'cat',text)\n",
    "print(match)\n",
    "# split function\n",
    "match=re.split(r'\\W+',text)\n",
    "print(match)"
   ]
  },
  {
   "cell_type": "code",
   "execution_count": 18,
   "metadata": {},
   "outputs": [
    {
     "name": "stdout",
     "output_type": "stream",
     "text": [
      "The CAT CATches a rat\n"
     ]
    }
   ],
   "source": [
    "# sub function\n",
    "match=re.sub(r'cat', 'CAT', text)\n",
    "print(match)"
   ]
  },
  {
   "cell_type": "code",
   "execution_count": 25,
   "metadata": {},
   "outputs": [],
   "source": [
    "# question \n",
    "#how to capture the first cat but ignore the cat inside catch"
   ]
  },
  {
   "cell_type": "code",
   "execution_count": null,
   "metadata": {},
   "outputs": [],
   "source": []
  },
  {
   "cell_type": "code",
   "execution_count": null,
   "metadata": {},
   "outputs": [],
   "source": []
  }
 ],
 "metadata": {
  "kernelspec": {
   "display_name": "Python 3",
   "language": "python",
   "name": "python3"
  },
  "language_info": {
   "codemirror_mode": {
    "name": "ipython",
    "version": 3
   },
   "file_extension": ".py",
   "mimetype": "text/x-python",
   "name": "python",
   "nbconvert_exporter": "python",
   "pygments_lexer": "ipython3",
   "version": "3.6.6"
  }
 },
 "nbformat": 4,
 "nbformat_minor": 2
}
